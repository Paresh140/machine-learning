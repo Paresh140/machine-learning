{
 "cells": [
  {
   "cell_type": "markdown",
   "metadata": {},
   "source": [
    "# Lab  2 - Advanced Machine Learning\n",
    "### Paresh Subedi 19BTRCR065\n",
    "---\n",
    "## 2. Build a machine learning model on hand written digits and compare the models using evaluation techniques."
   ]
  },
  {
   "cell_type": "markdown",
   "metadata": {
    "id": "Oh4cxwRBmsLE"
   },
   "source": [
    "## **Downloading the Dataset**\n",
    "\n",
    "We will use Sklearn’s load_digits dataset, which is a collection of 8x8 images (64 features)of digits. The dataset contains a total of 1797 sample points."
   ]
  },
  {
   "cell_type": "code",
   "execution_count": 9,
   "metadata": {
    "id": "VN0bpUY-CoTP"
   },
   "outputs": [
    {
     "name": "stdout",
     "output_type": "stream",
     "text": [
      "['DESCR', 'data', 'feature_names', 'frame', 'images', 'target', 'target_names']\n"
     ]
    }
   ],
   "source": [
    "from sklearn.datasets import load_digits\n",
    "digits = load_digits()\n",
    "print(dir(digits))"
   ]
  },
  {
   "cell_type": "code",
   "execution_count": 10,
   "metadata": {},
   "outputs": [
    {
     "name": "stdout",
     "output_type": "stream",
     "text": [
      ".. _digits_dataset:\n",
      "\n",
      "Optical recognition of handwritten digits dataset\n",
      "--------------------------------------------------\n",
      "\n",
      "**Data Set Characteristics:**\n",
      "\n",
      "    :Number of Instances: 1797\n",
      "    :Number of Attributes: 64\n",
      "    :Attribute Information: 8x8 image of integer pixels in the range 0..16.\n",
      "    :Missing Attribute Values: None\n",
      "    :Creator: E. Alpaydin (alpaydin '@' boun.edu.tr)\n",
      "    :Date: July; 1998\n",
      "\n",
      "This is a copy of the test set of the UCI ML hand-written digits datasets\n",
      "https://archive.ics.uci.edu/ml/datasets/Optical+Recognition+of+Handwritten+Digits\n",
      "\n",
      "The data set contains images of hand-written digits: 10 classes where\n",
      "each class refers to a digit.\n",
      "\n",
      "Preprocessing programs made available by NIST were used to extract\n",
      "normalized bitmaps of handwritten digits from a preprinted form. From a\n",
      "total of 43 people, 30 contributed to the training set and different 13\n",
      "to the test set. 32x32 bitmaps are divided into nonoverlapping blocks of\n",
      "4x4 and the number of on pixels are counted in each block. This generates\n",
      "an input matrix of 8x8 where each element is an integer in the range\n",
      "0..16. This reduces dimensionality and gives invariance to small\n",
      "distortions.\n",
      "\n",
      "For info on NIST preprocessing routines, see M. D. Garris, J. L. Blue, G.\n",
      "T. Candela, D. L. Dimmick, J. Geist, P. J. Grother, S. A. Janet, and C.\n",
      "L. Wilson, NIST Form-Based Handprint Recognition System, NISTIR 5469,\n",
      "1994.\n",
      "\n",
      ".. topic:: References\n",
      "\n",
      "  - C. Kaynak (1995) Methods of Combining Multiple Classifiers and Their\n",
      "    Applications to Handwritten Digit Recognition, MSc Thesis, Institute of\n",
      "    Graduate Studies in Science and Engineering, Bogazici University.\n",
      "  - E. Alpaydin, C. Kaynak (1998) Cascading Classifiers, Kybernetika.\n",
      "  - Ken Tang and Ponnuthurai N. Suganthan and Xi Yao and A. Kai Qin.\n",
      "    Linear dimensionalityreduction using relevance weighted LDA. School of\n",
      "    Electrical and Electronic Engineering Nanyang Technological University.\n",
      "    2005.\n",
      "  - Claudio Gentile. A New Approximate Maximal Margin Classification\n",
      "    Algorithm. NIPS. 2000.\n",
      "\n"
     ]
    }
   ],
   "source": [
    "print(digits.DESCR)"
   ]
  },
  {
   "cell_type": "code",
   "execution_count": 11,
   "metadata": {
    "id": "FYBIBPb-m9M2"
   },
   "outputs": [
    {
     "data": {
      "text/plain": [
       "array({'data': array([[ 0.,  0.,  5., ...,  0.,  0.,  0.],\n",
       "       [ 0.,  0.,  0., ..., 10.,  0.,  0.],\n",
       "       [ 0.,  0.,  0., ..., 16.,  9.,  0.],\n",
       "       ...,\n",
       "       [ 0.,  0.,  1., ...,  6.,  0.,  0.],\n",
       "       [ 0.,  0.,  2., ..., 12.,  0.,  0.],\n",
       "       [ 0.,  0., 10., ..., 12.,  1.,  0.]]), 'target': array([0, 1, 2, ..., 8, 9, 8]), 'frame': None, 'feature_names': ['pixel_0_0', 'pixel_0_1', 'pixel_0_2', 'pixel_0_3', 'pixel_0_4', 'pixel_0_5', 'pixel_0_6', 'pixel_0_7', 'pixel_1_0', 'pixel_1_1', 'pixel_1_2', 'pixel_1_3', 'pixel_1_4', 'pixel_1_5', 'pixel_1_6', 'pixel_1_7', 'pixel_2_0', 'pixel_2_1', 'pixel_2_2', 'pixel_2_3', 'pixel_2_4', 'pixel_2_5', 'pixel_2_6', 'pixel_2_7', 'pixel_3_0', 'pixel_3_1', 'pixel_3_2', 'pixel_3_3', 'pixel_3_4', 'pixel_3_5', 'pixel_3_6', 'pixel_3_7', 'pixel_4_0', 'pixel_4_1', 'pixel_4_2', 'pixel_4_3', 'pixel_4_4', 'pixel_4_5', 'pixel_4_6', 'pixel_4_7', 'pixel_5_0', 'pixel_5_1', 'pixel_5_2', 'pixel_5_3', 'pixel_5_4', 'pixel_5_5', 'pixel_5_6', 'pixel_5_7', 'pixel_6_0', 'pixel_6_1', 'pixel_6_2', 'pixel_6_3', 'pixel_6_4', 'pixel_6_5', 'pixel_6_6', 'pixel_6_7', 'pixel_7_0', 'pixel_7_1', 'pixel_7_2', 'pixel_7_3', 'pixel_7_4', 'pixel_7_5', 'pixel_7_6', 'pixel_7_7'], 'target_names': array([0, 1, 2, 3, 4, 5, 6, 7, 8, 9]), 'images': array([[[ 0.,  0.,  5., ...,  1.,  0.,  0.],\n",
       "        [ 0.,  0., 13., ..., 15.,  5.,  0.],\n",
       "        [ 0.,  3., 15., ..., 11.,  8.,  0.],\n",
       "        ...,\n",
       "        [ 0.,  4., 11., ..., 12.,  7.,  0.],\n",
       "        [ 0.,  2., 14., ..., 12.,  0.,  0.],\n",
       "        [ 0.,  0.,  6., ...,  0.,  0.,  0.]],\n",
       "\n",
       "       [[ 0.,  0.,  0., ...,  5.,  0.,  0.],\n",
       "        [ 0.,  0.,  0., ...,  9.,  0.,  0.],\n",
       "        [ 0.,  0.,  3., ...,  6.,  0.,  0.],\n",
       "        ...,\n",
       "        [ 0.,  0.,  1., ...,  6.,  0.,  0.],\n",
       "        [ 0.,  0.,  1., ...,  6.,  0.,  0.],\n",
       "        [ 0.,  0.,  0., ..., 10.,  0.,  0.]],\n",
       "\n",
       "       [[ 0.,  0.,  0., ..., 12.,  0.,  0.],\n",
       "        [ 0.,  0.,  3., ..., 14.,  0.,  0.],\n",
       "        [ 0.,  0.,  8., ..., 16.,  0.,  0.],\n",
       "        ...,\n",
       "        [ 0.,  9., 16., ...,  0.,  0.,  0.],\n",
       "        [ 0.,  3., 13., ..., 11.,  5.,  0.],\n",
       "        [ 0.,  0.,  0., ..., 16.,  9.,  0.]],\n",
       "\n",
       "       ...,\n",
       "\n",
       "       [[ 0.,  0.,  1., ...,  1.,  0.,  0.],\n",
       "        [ 0.,  0., 13., ...,  2.,  1.,  0.],\n",
       "        [ 0.,  0., 16., ..., 16.,  5.,  0.],\n",
       "        ...,\n",
       "        [ 0.,  0., 16., ..., 15.,  0.,  0.],\n",
       "        [ 0.,  0., 15., ..., 16.,  0.,  0.],\n",
       "        [ 0.,  0.,  2., ...,  6.,  0.,  0.]],\n",
       "\n",
       "       [[ 0.,  0.,  2., ...,  0.,  0.,  0.],\n",
       "        [ 0.,  0., 14., ..., 15.,  1.,  0.],\n",
       "        [ 0.,  4., 16., ..., 16.,  7.,  0.],\n",
       "        ...,\n",
       "        [ 0.,  0.,  0., ..., 16.,  2.,  0.],\n",
       "        [ 0.,  0.,  4., ..., 16.,  2.,  0.],\n",
       "        [ 0.,  0.,  5., ..., 12.,  0.,  0.]],\n",
       "\n",
       "       [[ 0.,  0., 10., ...,  1.,  0.,  0.],\n",
       "        [ 0.,  2., 16., ...,  1.,  0.,  0.],\n",
       "        [ 0.,  0., 15., ..., 15.,  0.,  0.],\n",
       "        ...,\n",
       "        [ 0.,  4., 16., ..., 16.,  6.,  0.],\n",
       "        [ 0.,  8., 16., ..., 16.,  8.,  0.],\n",
       "        [ 0.,  1.,  8., ..., 12.,  1.,  0.]]]), 'DESCR': \".. _digits_dataset:\\n\\nOptical recognition of handwritten digits dataset\\n--------------------------------------------------\\n\\n**Data Set Characteristics:**\\n\\n    :Number of Instances: 1797\\n    :Number of Attributes: 64\\n    :Attribute Information: 8x8 image of integer pixels in the range 0..16.\\n    :Missing Attribute Values: None\\n    :Creator: E. Alpaydin (alpaydin '@' boun.edu.tr)\\n    :Date: July; 1998\\n\\nThis is a copy of the test set of the UCI ML hand-written digits datasets\\nhttps://archive.ics.uci.edu/ml/datasets/Optical+Recognition+of+Handwritten+Digits\\n\\nThe data set contains images of hand-written digits: 10 classes where\\neach class refers to a digit.\\n\\nPreprocessing programs made available by NIST were used to extract\\nnormalized bitmaps of handwritten digits from a preprinted form. From a\\ntotal of 43 people, 30 contributed to the training set and different 13\\nto the test set. 32x32 bitmaps are divided into nonoverlapping blocks of\\n4x4 and the number of on pixels are counted in each block. This generates\\nan input matrix of 8x8 where each element is an integer in the range\\n0..16. This reduces dimensionality and gives invariance to small\\ndistortions.\\n\\nFor info on NIST preprocessing routines, see M. D. Garris, J. L. Blue, G.\\nT. Candela, D. L. Dimmick, J. Geist, P. J. Grother, S. A. Janet, and C.\\nL. Wilson, NIST Form-Based Handprint Recognition System, NISTIR 5469,\\n1994.\\n\\n.. topic:: References\\n\\n  - C. Kaynak (1995) Methods of Combining Multiple Classifiers and Their\\n    Applications to Handwritten Digit Recognition, MSc Thesis, Institute of\\n    Graduate Studies in Science and Engineering, Bogazici University.\\n  - E. Alpaydin, C. Kaynak (1998) Cascading Classifiers, Kybernetika.\\n  - Ken Tang and Ponnuthurai N. Suganthan and Xi Yao and A. Kai Qin.\\n    Linear dimensionalityreduction using relevance weighted LDA. School of\\n    Electrical and Electronic Engineering Nanyang Technological University.\\n    2005.\\n  - Claudio Gentile. A New Approximate Maximal Margin Classification\\n    Algorithm. NIPS. 2000.\\n\"},\n",
       "      dtype=object)"
      ]
     },
     "execution_count": 11,
     "metadata": {},
     "output_type": "execute_result"
    }
   ],
   "source": [
    "import numpy as np\n",
    "np.array(digits)"
   ]
  },
  {
   "cell_type": "code",
   "execution_count": 12,
   "metadata": {
    "colab": {
     "base_uri": "https://localhost:8080/",
     "height": 294
    },
    "id": "uAu18KspnPrt",
    "outputId": "b28d1160-2f91-45a2-817c-951edfee55eb"
   },
   "outputs": [
    {
     "data": {
      "text/plain": [
       "<Figure size 360x360 with 0 Axes>"
      ]
     },
     "metadata": {},
     "output_type": "display_data"
    },
    {
     "data": {
      "image/png": "[encoded data removed]",
      "text/plain": [
       "<Figure size 288x288 with 1 Axes>"
      ]
     },
     "metadata": {
      "needs_background": "light"
     },
     "output_type": "display_data"
    }
   ],
   "source": [
    "import matplotlib.pyplot as plt \n",
    "plt.figure(figsize=(5,5))\n",
    "plt.gray() \n",
    "plt.matshow(digits.images[0]) \n",
    "plt.show()"
   ]
  },
  {
   "cell_type": "code",
   "execution_count": 13,
   "metadata": {
    "colab": {
     "base_uri": "https://localhost:8080/",
     "height": 294
    },
    "id": "M5eeRZU9oJRj",
    "outputId": "b0670cc0-81ae-475c-d9c7-a6db0c3d2cc4"
   },
   "outputs": [
    {
     "data": {
      "text/plain": [
       "<Figure size 432x288 with 0 Axes>"
      ]
     },
     "metadata": {},
     "output_type": "display_data"
    },
    {
     "data": {
      "image/png": "[encoded data removed]",
      "text/plain": [
       "<Figure size 288x288 with 1 Axes>"
      ]
     },
     "metadata": {
      "needs_background": "light"
     },
     "output_type": "display_data"
    }
   ],
   "source": [
    "plt.gray() \n",
    "plt.matshow(digits.images[4]) \n",
    "plt.show()"
   ]
  },
  {
   "cell_type": "markdown",
   "metadata": {
    "id": "CXoSbWkFqaQj"
   },
   "source": [
    "## **Importing Relevant Libraries & Modules**\n",
    "\n",
    "Once our dataset is loaded, we will start the coding by importing the **train_test_split** and performance **metrics**."
   ]
  },
  {
   "cell_type": "code",
   "execution_count": 14,
   "metadata": {
    "id": "X5RtAZ3-qlde"
   },
   "outputs": [],
   "source": [
    "from sklearn import metrics\n",
    "from sklearn.metrics import accuracy_score\n",
    "from sklearn.model_selection import train_test_split"
   ]
  },
  {
   "cell_type": "markdown",
   "metadata": {
    "id": "KvmzMqk5qrJA"
   },
   "source": [
    "## **Preparing Data**\n",
    "\n",
    "Next, we will prepare the data for training by declaring **a NumPy array** data and **reshaping** it so that it has the first dimension equal to the length of the images, which is the number of samples, n_samples, but with reduced dimensionality. So the dimension of data will be 1797 x 64."
   ]
  },
  {
   "cell_type": "code",
   "execution_count": 15,
   "metadata": {
    "id": "WllcXBibq7-l"
   },
   "outputs": [
    {
     "name": "stdout",
     "output_type": "stream",
     "text": [
      "1797\n",
      "before reshaping the dimension of images :  (1797, 8, 8)\n",
      "before reshaping the dimension of images :  (1797, 64)\n",
      "None\n"
     ]
    }
   ],
   "source": [
    "n_samples = len(digits.images)\n",
    "print(n_samples)\n",
    "print(\"before reshaping the dimension of images : \", digits.images.shape)\n",
    "data = digits.images.reshape((n_samples, -1))\n",
    "print(print(\"before reshaping the dimension of images : \", data.shape))"
   ]
  },
  {
   "cell_type": "markdown",
   "metadata": {
    "id": "PzXgvf1krDGO"
   },
   "source": [
    "## **Splitting Data into Train and Test**\n",
    "\n",
    "The next step is to use the train_test_split function to split our data into 50% training and 50% testing data."
   ]
  },
  {
   "cell_type": "code",
   "execution_count": 16,
   "metadata": {
    "id": "jRWfKkntrMaR"
   },
   "outputs": [],
   "source": [
    "X_train, X_test, y_train, y_test = train_test_split(\n",
    "    data, digits.target, test_size=0.2, shuffle=False)"
   ]
  },
  {
   "cell_type": "markdown",
   "metadata": {
    "id": "7bi8gagHrS8s"
   },
   "source": [
    "## **Classifiers**\n",
    "\n",
    "Once we’re done with the above steps, we will use different algorithms as classifiers, make predictions, print the **‘Classification Report’**, the **‘Confusion Matrix’**, and the **‘Accuracy Score’**."
   ]
  },
  {
   "cell_type": "markdown",
   "metadata": {
    "id": "HgWCi-OWrtiu"
   },
   "source": [
    "The Classification Report will give us the **precision**, **recall**, **f1-score**, **support**, and **accuracy**, whereas the Confusion Matrix will show us the number of True Positives, False Positives, and False Negatives for each Classifier."
   ]
  },
  {
   "cell_type": "markdown",
   "metadata": {
    "id": "RG4b5eblr161"
   },
   "source": [
    "### **We will use the following classifiers from Sklearn:**\n",
    "\n",
    "1. Support Vector Machine\n",
    "\n",
    "2. Gaussian Naive Bayes\n",
    "\n",
    "3. Decision Trees\n",
    "\n",
    "4. Random Forest\n",
    "\n",
    "5. K Nearest Neighbours\n",
    "\n",
    "6. Stochastic Gradient Descent"
   ]
  },
  {
   "cell_type": "markdown",
   "metadata": {
    "id": "vGnAVQFfsTw_"
   },
   "source": [
    "#### **1. Support Vector Machines (SVM)**\n",
    "\n",
    "Here is the code to define the SVM classifier svm_classifier and use it to make predictions:"
   ]
  },
  {
   "cell_type": "code",
   "execution_count": 17,
   "metadata": {
    "colab": {
     "base_uri": "https://localhost:8080/",
     "height": 1000
    },
    "id": "Lq9AFcD3siLf",
    "outputId": "8865a886-9ef1-4a36-c964-da6712a68677"
   },
   "outputs": [
    {
     "name": "stdout",
     "output_type": "stream",
     "text": [
      "\n",
      "Classification report for classifier SVC(gamma=0.001):\n",
      "              precision    recall  f1-score   support\n",
      "\n",
      "           0       1.00      0.97      0.99        35\n",
      "           1       0.97      1.00      0.99        36\n",
      "           2       1.00      1.00      1.00        35\n",
      "           3       0.97      0.81      0.88        37\n",
      "           4       0.97      0.92      0.94        37\n",
      "           5       0.93      1.00      0.96        37\n",
      "           6       1.00      1.00      1.00        37\n",
      "           7       0.97      1.00      0.99        36\n",
      "           8       0.84      0.94      0.89        33\n",
      "           9       0.95      0.95      0.95        37\n",
      "\n",
      "    accuracy                           0.96       360\n",
      "   macro avg       0.96      0.96      0.96       360\n",
      "weighted avg       0.96      0.96      0.96       360\n",
      "\n",
      "\n",
      "\n",
      "Confusion matrix:\n",
      "[[34  0  0  0  1  0  0  0  0  0]\n",
      " [ 0 36  0  0  0  0  0  0  0  0]\n",
      " [ 0  0 35  0  0  0  0  0  0  0]\n",
      " [ 0  0  0 30  0  2  0  1  4  0]\n",
      " [ 0  0  0  0 34  0  0  0  2  1]\n",
      " [ 0  0  0  0  0 37  0  0  0  0]\n",
      " [ 0  0  0  0  0  0 37  0  0  0]\n",
      " [ 0  0  0  0  0  0  0 36  0  0]\n",
      " [ 0  1  0  0  0  0  0  0 31  1]\n",
      " [ 0  0  0  1  0  1  0  0  0 35]]\n",
      "\n",
      "Accuracy of the Algorithm:  0.9583333333333334\n"
     ]
    },
    {
     "name": "stderr",
     "output_type": "stream",
     "text": [
      "C:\\Users\\bokad\\AppData\\Local\\Packages\\PythonSoftwareFoundation.Python.3.10_qbz5n2kfra8p0\\LocalCache\\local-packages\\Python310\\site-packages\\sklearn\\utils\\deprecation.py:87: FutureWarning: Function plot_confusion_matrix is deprecated; Function `plot_confusion_matrix` is deprecated in 1.0 and will be removed in 1.2. Use one of the class methods: ConfusionMatrixDisplay.from_predictions or ConfusionMatrixDisplay.from_estimator.\n",
      "  warnings.warn(msg, category=FutureWarning)\n"
     ]
    },
    {
     "data": {
      "image/png": "[encoded data removed]",
      "text/plain": [
       "<Figure size 432x288 with 8 Axes>"
      ]
     },
     "metadata": {
      "needs_background": "light"
     },
     "output_type": "display_data"
    },
    {
     "data": {
      "image/png": "[encoded data removed]",
      "text/plain": [
       "<Figure size 432x288 with 2 Axes>"
      ]
     },
     "metadata": {
      "needs_background": "light"
     },
     "output_type": "display_data"
    }
   ],
   "source": [
    "from sklearn import svm\n",
    "svm_classifier = svm.SVC(gamma=0.001)\n",
    "svm_classifier.fit(X_train, y_train)\n",
    "predicted = svm_classifier.predict(X_test)\n",
    "_, axes = plt.subplots(2, 4)\n",
    "images_and_labels = list(zip(digits.images, digits.target))\n",
    "for ax, (image, label) in zip(axes[0, :], images_and_labels[:4]):\n",
    "    ax.set_axis_off()\n",
    "    ax.imshow(image, cmap=plt.cm.gray_r, interpolation='nearest')\n",
    "    ax.set_title('Training: %i' % label)\n",
    "    \n",
    "images_and_predictions = list(zip(digits.images[n_samples // 2:], predicted))\n",
    "for ax, (image, prediction) in zip(axes[1, :], images_and_predictions[:4]):\n",
    "    ax.set_axis_off()\n",
    "    ax.imshow(image, cmap=plt.cm.gray_r, interpolation='nearest')\n",
    "    ax.set_title('Prediction: %i' % prediction)\n",
    "print(\"\\nClassification report for classifier %s:\\n%s\\n\" % (svm_classifier, metrics.classification_report(y_test, predicted)))\n",
    "disp = metrics.plot_confusion_matrix(svm_classifier, X_test, y_test)\n",
    "disp.figure_.suptitle(\"Confusion Matrix\")\n",
    "print(\"\\nConfusion matrix:\\n%s\" % disp.confusion_matrix)\n",
    "print(\"\\nAccuracy of the Algorithm: \", svm_classifier.score(X_test, y_test))\n",
    "plt.show()"
   ]
  },
  {
   "cell_type": "markdown",
   "metadata": {
    "id": "hStQXGB1sw3F"
   },
   "source": [
    "The SVM Classifier gives an Accuracy of **0.9688!**"
   ]
  },
  {
   "cell_type": "markdown",
   "metadata": {
    "id": "PYLdcxOds1TE"
   },
   "source": [
    "#### **2. Gaussian Naive Bayes**\n",
    "\n",
    "Next, we will define the Gaussian Naive Bayes as the classifier — GNB_classifier:"
   ]
  },
  {
   "cell_type": "code",
   "execution_count": 18,
   "metadata": {
    "colab": {
     "base_uri": "https://localhost:8080/",
     "height": 1000
    },
    "id": "mqvBlmgts58V",
    "outputId": "86f22ee0-07a8-44f9-a675-67dae7b251ae"
   },
   "outputs": [
    {
     "name": "stdout",
     "output_type": "stream",
     "text": [
      "\n",
      "Classification report for classifier GaussianNB():\n",
      "              precision    recall  f1-score   support\n",
      "\n",
      "           0       0.97      0.97      0.97        35\n",
      "           1       0.68      0.69      0.68        36\n",
      "           2       0.97      0.80      0.88        35\n",
      "           3       0.96      0.59      0.73        37\n",
      "           4       0.97      0.84      0.90        37\n",
      "           5       0.80      0.97      0.88        37\n",
      "           6       0.97      0.97      0.97        37\n",
      "           7       0.65      0.89      0.75        36\n",
      "           8       0.62      0.73      0.67        33\n",
      "           9       0.74      0.68      0.70        37\n",
      "\n",
      "    accuracy                           0.81       360\n",
      "   macro avg       0.83      0.81      0.81       360\n",
      "weighted avg       0.83      0.81      0.81       360\n",
      "\n",
      "\n",
      "\n",
      "Confusion matrix:\n",
      "[[34  0  0  0  1  0  0  0  0  0]\n",
      " [ 0 25  0  0  0  0  0  0  4  7]\n",
      " [ 0  3 28  0  0  0  1  0  1  2]\n",
      " [ 0  1  0 22  0  4  0  3  7  0]\n",
      " [ 0  0  0  0 31  0  0  5  1  0]\n",
      " [ 0  1  0  0  0 36  0  0  0  0]\n",
      " [ 0  1  0  0  0  0 36  0  0  0]\n",
      " [ 0  0  1  0  0  1  0 32  2  0]\n",
      " [ 0  5  0  0  0  1  0  3 24  0]\n",
      " [ 1  1  0  1  0  3  0  6  0 25]]\n",
      "\n",
      "Accuracy of the Algorithm:  0.8138888888888889\n"
     ]
    },
    {
     "name": "stderr",
     "output_type": "stream",
     "text": [
      "C:\\Users\\bokad\\AppData\\Local\\Packages\\PythonSoftwareFoundation.Python.3.10_qbz5n2kfra8p0\\LocalCache\\local-packages\\Python310\\site-packages\\sklearn\\utils\\deprecation.py:87: FutureWarning: Function plot_confusion_matrix is deprecated; Function `plot_confusion_matrix` is deprecated in 1.0 and will be removed in 1.2. Use one of the class methods: ConfusionMatrixDisplay.from_predictions or ConfusionMatrixDisplay.from_estimator.\n",
      "  warnings.warn(msg, category=FutureWarning)\n"
     ]
    },
    {
     "data": {
      "image/png": "[encoded data removed]",
      "text/plain": [
       "<Figure size 432x288 with 8 Axes>"
      ]
     },
     "metadata": {
      "needs_background": "light"
     },
     "output_type": "display_data"
    },
    {
     "data": {
      "image/png": "[encoded data removed]",
      "text/plain": [
       "<Figure size 432x288 with 2 Axes>"
      ]
     },
     "metadata": {
      "needs_background": "light"
     },
     "output_type": "display_data"
    }
   ],
   "source": [
    "from sklearn.naive_bayes import GaussianNB\n",
    "GNB_classifier = GaussianNB()\n",
    "GNB_classifier.fit(X_train, y_train)\n",
    "predicted = GNB_classifier.predict(X_test)\n",
    "_, axes = plt.subplots(2, 4)\n",
    "images_and_labels = list(zip(digits.images, digits.target))\n",
    "for ax, (image, label) in zip(axes[0, :], images_and_labels[:4]):\n",
    "    ax.set_axis_off()\n",
    "    ax.imshow(image, cmap=plt.cm.gray_r, interpolation='nearest')\n",
    "    ax.set_title('Training: %i' % label)\n",
    "    \n",
    "images_and_predictions = list(zip(digits.images[n_samples // 2:], predicted))\n",
    "for ax, (image, prediction) in zip(axes[1, :], images_and_predictions[:4]):\n",
    "    ax.set_axis_off()\n",
    "    ax.imshow(image, cmap=plt.cm.gray_r, interpolation='nearest')\n",
    "    ax.set_title('Prediction: %i' % prediction)\n",
    "print(\"\\nClassification report for classifier %s:\\n%s\\n\" % (GNB_classifier, metrics.classification_report(y_test, predicted)))\n",
    "disp = metrics.plot_confusion_matrix(GNB_classifier, X_test, y_test)\n",
    "disp.figure_.suptitle(\"Confusion Matrix\")\n",
    "print(\"\\nConfusion matrix:\\n%s\" % disp.confusion_matrix)\n",
    "print(\"\\nAccuracy of the Algorithm: \", GNB_classifier.score(X_test, y_test))\n",
    "plt.show()"
   ]
  },
  {
   "cell_type": "markdown",
   "metadata": {
    "id": "p9CGa9bltAAX"
   },
   "source": [
    "The **accuracy** of the **Gaussian Naive Bayes Classifier** was found out to be **0.8075**. \n",
    "\n",
    "Gaussian Naive Bayes Classifier is less accurate than the SVM Classifier (0.9688) when it comes to recognizing handwritten digits."
   ]
  },
  {
   "cell_type": "markdown",
   "metadata": {
    "id": "XvBhK_1wtGBB"
   },
   "source": [
    "#### **3. Decision Trees**\n",
    "\n",
    "Following is the code for defining the decision tree classifier dt_classifier and using it for making predictions:"
   ]
  },
  {
   "cell_type": "code",
   "execution_count": 19,
   "metadata": {
    "colab": {
     "base_uri": "https://localhost:8080/",
     "height": 1000
    },
    "id": "o-PPS3xRtKaZ",
    "outputId": "22beb318-8da5-41be-fe37-3539e22ffbe9"
   },
   "outputs": [
    {
     "name": "stdout",
     "output_type": "stream",
     "text": [
      "\n",
      "Classification report for classifier DecisionTreeClassifier():\n",
      "              precision    recall  f1-score   support\n",
      "\n",
      "           0       0.97      0.94      0.96        35\n",
      "           1       0.81      0.61      0.70        36\n",
      "           2       0.91      0.83      0.87        35\n",
      "           3       0.74      0.70      0.72        37\n",
      "           4       0.85      0.78      0.82        37\n",
      "           5       0.76      0.76      0.76        37\n",
      "           6       0.86      0.86      0.86        37\n",
      "           7       0.74      0.89      0.81        36\n",
      "           8       0.62      0.73      0.67        33\n",
      "           9       0.64      0.73      0.68        37\n",
      "\n",
      "    accuracy                           0.78       360\n",
      "   macro avg       0.79      0.78      0.78       360\n",
      "weighted avg       0.79      0.78      0.78       360\n",
      "\n",
      "\n",
      "\n",
      "Confusion matrix:\n",
      "[[33  0  0  0  1  0  0  0  1  0]\n",
      " [ 0 22  1  3  0  2  2  0  2  4]\n",
      " [ 0  0 29  0  0  0  0  2  2  2]\n",
      " [ 0  1  0 26  0  3  0  1  5  1]\n",
      " [ 0  0  0  0 29  0  1  4  2  1]\n",
      " [ 0  0  0  2  3 28  1  1  0  2]\n",
      " [ 0  2  0  0  0  0 32  0  3  0]\n",
      " [ 1  0  0  1  0  0  0 32  0  2]\n",
      " [ 0  2  2  0  1  0  1  0 24  3]\n",
      " [ 0  0  0  3  0  4  0  3  0 27]]\n",
      "\n",
      "Accuracy of the Algorithm:  0.7833333333333333\n"
     ]
    },
    {
     "name": "stderr",
     "output_type": "stream",
     "text": [
      "C:\\Users\\bokad\\AppData\\Local\\Packages\\PythonSoftwareFoundation.Python.3.10_qbz5n2kfra8p0\\LocalCache\\local-packages\\Python310\\site-packages\\sklearn\\utils\\deprecation.py:87: FutureWarning: Function plot_confusion_matrix is deprecated; Function `plot_confusion_matrix` is deprecated in 1.0 and will be removed in 1.2. Use one of the class methods: ConfusionMatrixDisplay.from_predictions or ConfusionMatrixDisplay.from_estimator.\n",
      "  warnings.warn(msg, category=FutureWarning)\n"
     ]
    },
    {
     "data": {
      "image/png": "[encoded data removed]",
      "text/plain": [
       "<Figure size 432x288 with 8 Axes>"
      ]
     },
     "metadata": {
      "needs_background": "light"
     },
     "output_type": "display_data"
    },
    {
     "data": {
      "image/png": "[encoded data removed]",
      "text/plain": [
       "<Figure size 432x288 with 2 Axes>"
      ]
     },
     "metadata": {
      "needs_background": "light"
     },
     "output_type": "display_data"
    }
   ],
   "source": [
    "from sklearn import tree\n",
    "dt_classifier = tree.DecisionTreeClassifier()\n",
    "dt_classifier.fit(X_train, y_train)\n",
    "predicted = dt_classifier.predict(X_test)\n",
    "_, axes = plt.subplots(2, 4)\n",
    "images_and_labels = list(zip(digits.images, digits.target))\n",
    "for ax, (image, label) in zip(axes[0, :], images_and_labels[:4]):\n",
    "    ax.set_axis_off()\n",
    "    ax.imshow(image, cmap=plt.cm.gray_r, interpolation='nearest')\n",
    "    ax.set_title('Training: %i' % label)\n",
    "    \n",
    "images_and_predictions = list(zip(digits.images[n_samples // 2:], predicted))\n",
    "for ax, (image, prediction) in zip(axes[1, :], images_and_predictions[:4]):\n",
    "    ax.set_axis_off()\n",
    "    ax.imshow(image, cmap=plt.cm.gray_r, interpolation='nearest')\n",
    "    ax.set_title('Prediction: %i' % prediction)\n",
    "print(\"\\nClassification report for classifier %s:\\n%s\\n\" % (dt_classifier, metrics.classification_report(y_test, predicted)))\n",
    "disp = metrics.plot_confusion_matrix(dt_classifier, X_test, y_test)\n",
    "disp.figure_.suptitle(\"Confusion Matrix\")\n",
    "print(\"\\nConfusion matrix:\\n%s\" % disp.confusion_matrix)\n",
    "print(\"\\nAccuracy of the Algorithm: \", dt_classifier.score(X_test, y_test))\n",
    "plt.show()"
   ]
  },
  {
   "cell_type": "markdown",
   "metadata": {
    "id": "dHfAQDpytUEt"
   },
   "source": [
    "The Decision Tree Classifier had an even lower **accuracy score = 0.7352.**"
   ]
  },
  {
   "cell_type": "markdown",
   "metadata": {
    "id": "sa6K8FEUtV64"
   },
   "source": [
    "#### **4. Random Forest**\n",
    "\n",
    "Let us try using the Random Forest Classifier from sklearn. The classifier is defined as RF_classifier in the code below:"
   ]
  },
  {
   "cell_type": "code",
   "execution_count": 20,
   "metadata": {
    "colab": {
     "base_uri": "https://localhost:8080/",
     "height": 1000
    },
    "id": "LwIjXHAqtdr1",
    "outputId": "0fea5944-cfa4-441d-a9c9-d9743ad648ca"
   },
   "outputs": [
    {
     "name": "stdout",
     "output_type": "stream",
     "text": [
      "\n",
      "Classification report for classifier RandomForestClassifier(max_depth=2, random_state=0):\n",
      "              precision    recall  f1-score   support\n",
      "\n",
      "           0       0.92      0.97      0.94        35\n",
      "           1       0.72      0.58      0.65        36\n",
      "           2       0.78      0.89      0.83        35\n",
      "           3       0.71      0.59      0.65        37\n",
      "           4       0.80      0.89      0.85        37\n",
      "           5       0.90      0.76      0.82        37\n",
      "           6       0.93      1.00      0.96        37\n",
      "           7       0.66      0.97      0.79        36\n",
      "           8       0.76      0.39      0.52        33\n",
      "           9       0.68      0.76      0.72        37\n",
      "\n",
      "    accuracy                           0.78       360\n",
      "   macro avg       0.79      0.78      0.77       360\n",
      "weighted avg       0.79      0.78      0.77       360\n",
      "\n",
      "\n",
      "\n",
      "Confusion matrix:\n",
      "[[34  0  0  0  1  0  0  0  0  0]\n",
      " [ 0 21  0  1  3  0  0  1  3  7]\n",
      " [ 1  0 31  0  0  0  0  2  0  1]\n",
      " [ 0  2  7 22  0  2  1  2  1  0]\n",
      " [ 0  0  0  0 33  0  0  4  0  0]\n",
      " [ 1  0  0  1  2 28  1  2  0  2]\n",
      " [ 0  0  0  0  0  0 37  0  0  0]\n",
      " [ 0  0  0  0  1  0  0 35  0  0]\n",
      " [ 0  6  2  5  1  0  1  2 13  3]\n",
      " [ 1  0  0  2  0  1  0  5  0 28]]\n",
      "\n",
      "Accuracy of the Algorithm:  0.7833333333333333\n"
     ]
    },
    {
     "name": "stderr",
     "output_type": "stream",
     "text": [
      "C:\\Users\\bokad\\AppData\\Local\\Packages\\PythonSoftwareFoundation.Python.3.10_qbz5n2kfra8p0\\LocalCache\\local-packages\\Python310\\site-packages\\sklearn\\utils\\deprecation.py:87: FutureWarning: Function plot_confusion_matrix is deprecated; Function `plot_confusion_matrix` is deprecated in 1.0 and will be removed in 1.2. Use one of the class methods: ConfusionMatrixDisplay.from_predictions or ConfusionMatrixDisplay.from_estimator.\n",
      "  warnings.warn(msg, category=FutureWarning)\n"
     ]
    },
    {
     "data": {
      "image/png": "[encoded data removed]",
      "text/plain": [
       "<Figure size 432x288 with 8 Axes>"
      ]
     },
     "metadata": {
      "needs_background": "light"
     },
     "output_type": "display_data"
    },
    {
     "data": {
      "image/png": "[encoded data removed]",
      "text/plain": [
       "<Figure size 432x288 with 2 Axes>"
      ]
     },
     "metadata": {
      "needs_background": "light"
     },
     "output_type": "display_data"
    }
   ],
   "source": [
    "from sklearn.ensemble import RandomForestClassifier\n",
    "RF_classifier = RandomForestClassifier(max_depth=2, random_state=0)\n",
    "RF_classifier.fit(X_train, y_train)\n",
    "predicted = RF_classifier.predict(X_test)\n",
    "_, axes = plt.subplots(2, 4)\n",
    "images_and_labels = list(zip(digits.images, digits.target))\n",
    "for ax, (image, label) in zip(axes[0, :], images_and_labels[:4]):\n",
    "    ax.set_axis_off()\n",
    "    ax.imshow(image, cmap=plt.cm.gray_r, interpolation='nearest')\n",
    "    ax.set_title('Training: %i' % label)\n",
    "    \n",
    "images_and_predictions = list(zip(digits.images[n_samples // 2:], predicted))\n",
    "for ax, (image, prediction) in zip(axes[1, :], images_and_predictions[:4]):\n",
    "    ax.set_axis_off()\n",
    "    ax.imshow(image, cmap=plt.cm.gray_r, interpolation='nearest')\n",
    "    ax.set_title('Prediction: %i' % prediction)\n",
    "print(\"\\nClassification report for classifier %s:\\n%s\\n\" % (RF_classifier, metrics.classification_report(y_test, predicted)))\n",
    "disp = metrics.plot_confusion_matrix(RF_classifier, X_test, y_test)\n",
    "disp.figure_.suptitle(\"Confusion Matrix\")\n",
    "print(\"\\nConfusion matrix:\\n%s\" % disp.confusion_matrix)\n",
    "print(\"\\nAccuracy of the Algorithm: \", RF_classifier.score(X_test, y_test))\n",
    "plt.show()"
   ]
  },
  {
   "cell_type": "markdown",
   "metadata": {
    "id": "xjBqMamKtkDi"
   },
   "source": [
    "The accuracy score of the Random Forest Classifier is **0.7530** — nearly that of the Decision Tree Classifier."
   ]
  },
  {
   "cell_type": "markdown",
   "metadata": {
    "id": "oB3LlpDvtpkl"
   },
   "source": [
    "#### **5. K Nearest Neighbours (KNN)**\n",
    "\n",
    "Our next classifier is defined by using KNN classification algorithm KNN_classifier:"
   ]
  },
  {
   "cell_type": "code",
   "execution_count": 21,
   "metadata": {
    "colab": {
     "base_uri": "https://localhost:8080/",
     "height": 1000
    },
    "id": "XIdpizO1tu17",
    "outputId": "397678a9-1e84-40e7-e89d-d841c2079060"
   },
   "outputs": [
    {
     "name": "stdout",
     "output_type": "stream",
     "text": [
      "\n",
      "Classification report for classifier KNeighborsClassifier(metric='euclidean'):\n",
      "              precision    recall  f1-score   support\n",
      "\n",
      "           0       1.00      0.97      0.99        35\n",
      "           1       0.95      1.00      0.97        36\n",
      "           2       0.97      1.00      0.99        35\n",
      "           3       0.97      0.89      0.93        37\n",
      "           4       0.97      0.95      0.96        37\n",
      "           5       0.93      1.00      0.96        37\n",
      "           6       1.00      1.00      1.00        37\n",
      "           7       0.92      1.00      0.96        36\n",
      "           8       0.94      0.91      0.92        33\n",
      "           9       1.00      0.92      0.96        37\n",
      "\n",
      "    accuracy                           0.96       360\n",
      "   macro avg       0.96      0.96      0.96       360\n",
      "weighted avg       0.97      0.96      0.96       360\n",
      "\n",
      "\n",
      "\n",
      "Confusion matrix:\n",
      "[[34  0  0  0  1  0  0  0  0  0]\n",
      " [ 0 36  0  0  0  0  0  0  0  0]\n",
      " [ 0  0 35  0  0  0  0  0  0  0]\n",
      " [ 0  0  1 33  0  1  0  1  1  0]\n",
      " [ 0  0  0  0 35  0  0  1  1  0]\n",
      " [ 0  0  0  0  0 37  0  0  0  0]\n",
      " [ 0  0  0  0  0  0 37  0  0  0]\n",
      " [ 0  0  0  0  0  0  0 36  0  0]\n",
      " [ 0  2  0  0  0  0  0  1 30  0]\n",
      " [ 0  0  0  1  0  2  0  0  0 34]]\n"
     ]
    },
    {
     "name": "stderr",
     "output_type": "stream",
     "text": [
      "C:\\Users\\bokad\\AppData\\Local\\Packages\\PythonSoftwareFoundation.Python.3.10_qbz5n2kfra8p0\\LocalCache\\local-packages\\Python310\\site-packages\\sklearn\\utils\\deprecation.py:87: FutureWarning: Function plot_confusion_matrix is deprecated; Function `plot_confusion_matrix` is deprecated in 1.0 and will be removed in 1.2. Use one of the class methods: ConfusionMatrixDisplay.from_predictions or ConfusionMatrixDisplay.from_estimator.\n",
      "  warnings.warn(msg, category=FutureWarning)\n"
     ]
    },
    {
     "name": "stdout",
     "output_type": "stream",
     "text": [
      "\n",
      "Accuracy of the Algorithm:  0.9638888888888889\n"
     ]
    },
    {
     "data": {
      "image/png": "[encoded data removed]",
      "text/plain": [
       "<Figure size 432x288 with 8 Axes>"
      ]
     },
     "metadata": {
      "needs_background": "light"
     },
     "output_type": "display_data"
    },
    {
     "data": {
      "image/png": "[encoded data removed]",
      "text/plain": [
       "<Figure size 432x288 with 2 Axes>"
      ]
     },
     "metadata": {
      "needs_background": "light"
     },
     "output_type": "display_data"
    }
   ],
   "source": [
    "from sklearn.neighbors import KNeighborsClassifier\n",
    "KNN_classifier = KNeighborsClassifier(n_neighbors=5, metric='euclidean')\n",
    "KNN_classifier.fit(X_train, y_train)\n",
    "predicted = KNN_classifier.predict(X_test)\n",
    "_, axes = plt.subplots(2, 4)\n",
    "images_and_labels = list(zip(digits.images, digits.target))\n",
    "for ax, (image, label) in zip(axes[0, :], images_and_labels[:4]):\n",
    "    ax.set_axis_off()\n",
    "    ax.imshow(image, cmap=plt.cm.gray_r, interpolation='nearest')\n",
    "    ax.set_title('Training: %i' % label)\n",
    "    \n",
    "images_and_predictions = list(zip(digits.images[n_samples // 2:], predicted))\n",
    "for ax, (image, prediction) in zip(axes[1, :], images_and_predictions[:4]):\n",
    "    ax.set_axis_off()\n",
    "    ax.imshow(image, cmap=plt.cm.gray_r, interpolation='nearest')\n",
    "    ax.set_title('Prediction: %i' % prediction)\n",
    "print(\"\\nClassification report for classifier %s:\\n%s\\n\" % (KNN_classifier, metrics.classification_report(y_test, predicted)))\n",
    "disp = metrics.plot_confusion_matrix(KNN_classifier, X_test, y_test)\n",
    "disp.figure_.suptitle(\"Confusion Matrix\")\n",
    "print(\"\\nConfusion matrix:\\n%s\" % disp.confusion_matrix)\n",
    "print(\"\\nAccuracy of the Algorithm: \", KNN_classifier.score(X_test, y_test))\n",
    "plt.show()"
   ]
  },
  {
   "cell_type": "markdown",
   "metadata": {
    "id": "iIDAvEg9t1M9"
   },
   "source": [
    "So the accuracy comes out to be **0.9555!**"
   ]
  },
  {
   "cell_type": "markdown",
   "metadata": {
    "id": "WZdS7iZ9t6EH"
   },
   "source": [
    "#### **6. Stochastic Gradient Descent**\n",
    "\n",
    "Let us try Stochastic Gradient Descent as our classifier sgd_classifier:"
   ]
  },
  {
   "cell_type": "code",
   "execution_count": 22,
   "metadata": {
    "colab": {
     "base_uri": "https://localhost:8080/",
     "height": 1000
    },
    "id": "aCEzxn77t-R9",
    "outputId": "9da9f17a-ad81-4a02-fa05-723f346e5adf"
   },
   "outputs": [
    {
     "name": "stderr",
     "output_type": "stream",
     "text": [
      "C:\\Users\\bokad\\AppData\\Local\\Packages\\PythonSoftwareFoundation.Python.3.10_qbz5n2kfra8p0\\LocalCache\\local-packages\\Python310\\site-packages\\sklearn\\linear_model\\_stochastic_gradient.py:705: ConvergenceWarning: Maximum number of iteration reached before convergence. Consider increasing max_iter to improve the fit.\n",
      "  warnings.warn(\n",
      "C:\\Users\\bokad\\AppData\\Local\\Packages\\PythonSoftwareFoundation.Python.3.10_qbz5n2kfra8p0\\LocalCache\\local-packages\\Python310\\site-packages\\sklearn\\utils\\deprecation.py:87: FutureWarning: Function plot_confusion_matrix is deprecated; Function `plot_confusion_matrix` is deprecated in 1.0 and will be removed in 1.2. Use one of the class methods: ConfusionMatrixDisplay.from_predictions or ConfusionMatrixDisplay.from_estimator.\n",
      "  warnings.warn(msg, category=FutureWarning)\n"
     ]
    },
    {
     "name": "stdout",
     "output_type": "stream",
     "text": [
      "\n",
      "Classification report for classifier SGDClassifier(max_iter=5):\n",
      "              precision    recall  f1-score   support\n",
      "\n",
      "           0       0.94      0.97      0.96        35\n",
      "           1       0.70      0.83      0.76        36\n",
      "           2       0.95      1.00      0.97        35\n",
      "           3       0.93      0.68      0.78        37\n",
      "           4       0.94      0.92      0.93        37\n",
      "           5       0.86      1.00      0.92        37\n",
      "           6       1.00      0.95      0.97        37\n",
      "           7       0.76      0.94      0.84        36\n",
      "           8       0.90      0.58      0.70        33\n",
      "           9       0.78      0.78      0.78        37\n",
      "\n",
      "    accuracy                           0.87       360\n",
      "   macro avg       0.88      0.86      0.86       360\n",
      "weighted avg       0.88      0.87      0.86       360\n",
      "\n",
      "\n",
      "\n",
      "Confusion matrix:\n",
      "[[34  0  0  0  1  0  0  0  0  0]\n",
      " [ 0 30  0  1  0  0  0  0  0  5]\n",
      " [ 0  0 35  0  0  0  0  0  0  0]\n",
      " [ 0  3  1 25  0  3  0  4  1  0]\n",
      " [ 0  2  0  0 34  0  0  0  0  1]\n",
      " [ 0  0  0  0  0 37  0  0  0  0]\n",
      " [ 0  2  0  0  0  0 35  0  0  0]\n",
      " [ 0  1  1  0  0  0  0 34  0  0]\n",
      " [ 0  4  0  0  1  2  0  5 19  2]\n",
      " [ 2  1  0  1  0  1  0  2  1 29]]\n",
      "\n",
      "Accuracy of the Algorithm:  0.8666666666666667\n"
     ]
    },
    {
     "data": {
      "image/png": "[encoded data removed]",
      "text/plain": [
       "<Figure size 432x288 with 8 Axes>"
      ]
     },
     "metadata": {
      "needs_background": "light"
     },
     "output_type": "display_data"
    },
    {
     "data": {
      "image/png": "[encoded data removed]",
      "text/plain": [
       "<Figure size 432x288 with 2 Axes>"
      ]
     },
     "metadata": {
      "needs_background": "light"
     },
     "output_type": "display_data"
    }
   ],
   "source": [
    "from sklearn.linear_model import SGDClassifier\n",
    "sgd_classifier = SGDClassifier(loss=\"hinge\", penalty=\"l2\", max_iter=5)\n",
    "sgd_classifier.fit(X_train, y_train)\n",
    "predicted = sgd_classifier.predict(X_test)\n",
    "_, axes = plt.subplots(2, 4)\n",
    "images_and_labels = list(zip(digits.images, digits.target))\n",
    "for ax, (image, label) in zip(axes[0, :], images_and_labels[:4]):\n",
    "    ax.set_axis_off()\n",
    "    ax.imshow(image, cmap=plt.cm.gray_r, interpolation='nearest')\n",
    "    ax.set_title('Training: %i' % label)\n",
    "    \n",
    "images_and_predictions = list(zip(digits.images[n_samples // 2:], predicted))\n",
    "for ax, (image, prediction) in zip(axes[1, :], images_and_predictions[:4]):\n",
    "    ax.set_axis_off()\n",
    "    ax.imshow(image, cmap=plt.cm.gray_r, interpolation='nearest')\n",
    "    ax.set_title('Prediction: %i' % prediction)\n",
    "print(\"\\nClassification report for classifier %s:\\n%s\\n\" % (sgd_classifier, metrics.classification_report(y_test, predicted)))\n",
    "disp = metrics.plot_confusion_matrix(sgd_classifier, X_test, y_test)\n",
    "disp.figure_.suptitle(\"Confusion Matrix\")\n",
    "print(\"\\nConfusion matrix:\\n%s\" % disp.confusion_matrix)\n",
    "print(\"\\nAccuracy of the Algorithm: \", sgd_classifier.score(X_test, y_test))\n",
    "plt.show()"
   ]
  },
  {
   "cell_type": "markdown",
   "metadata": {
    "id": "AF4GoWTHuC0h"
   },
   "source": [
    "The Stochastic Gradient Descent Algorithm gives us an accuracy score of **0.8932**."
   ]
  },
  {
   "cell_type": "markdown",
   "metadata": {
    "id": "XIcroLcBuIZv"
   },
   "source": [
    "![image.png](data:image/png;base64,iVBORw0KGgoAAAANSUhEUgAAAjUAAAENCAIAAAB4tgOSAAAgAElEQVR4nO2dXYwc2XXfTxsLBNjR45DzwIU8S3QT1PS8j1ANLnf3JehmAA5IYBwZsBjDSTWwepje2EQiLUOENCPJHsvb/aAVuv0FamPLGYALIgirkSAkl7vogvjeMyJYBZI2xIdZElAca7TaDezKQ33dqntv1a3q7umamv8PfOB0n/tRt6rOufecc29XHMfZ2dmp1+sEAABERASdAObOzs7Ob8y7DwAAAICAyng8fu/W3ry7AQAAAET4DaziAQAAFBD49wAAABQR2CcAAABFBPYJAABAEYF9AgAAUERgnwAAABQR2CcAAABFBPYJAABAEYF9AgAAUERembwKZ2npO+36GhHR/q3+ww8P/DAKh5a+8059bVHQAYcW3txY3Ti9cIKIiJ4/era1/eSpXB4AAEBBSLdPztLSN88uf31x4cSi+8H+80cvth88eRCq9YXXgv8cIzp4db96bM3r28LXVxY+3NsPvnlzY+3d06HgidPHziw9eXpMKg8ASMWhhW++s3Zx0f/75bPOB0+ezbNHhxJPtfqzZ6L95y/3f/rJ0w/H0EgeSfbJXXy8e3oh+vHCidML754+pn00/l4xxvH1YwvCz52lkxunBZ/L5AEASqy+HhonIlo8dmbpyTP4IbKwvLp6+cLxE5HPFk4sLly8sEAv4NTxSLJPscVHlIW1C6+fHY8fzKBPWXm6++zh1zx/3U93Q5P5+sqxYGLC+vEcEssDAFR4c+V49AP4IbLhLJ3kjFPAnLxQhURqn5bfYo3T/sOPxj8Z7z9zF1Vvvb5x5vgJWvjqUiHGsbK3970PEvvx8sWnzPfp8gAACQ4taZ5m2H/4iNZOLxDRia8tLd+Hi0+VN88uB8bp4UcPXUeUs7Tw5srrG2cWfv5ijl0rFmL75NDSN84ETrDI4qNC+w/ujz/ePflB+9W/h5IH4KixemzN/c/LFz/ZfdW1T3DxqePQwleZ0N1P/ChJZW//wd74wf159auISNZPwSNIRI+e8c7Qyt6Tb11PqdpbaX1t4cRiaOqev9zfvjV+EK3QWVp482yYZUcv9x/+7NlP7u89UxPgEwiX31rrnmGCTIvL3avLRPT804ffur+fkHDo9/m4PBmEnKWTH7SXTxDRo53z278MQnSReVDi5QBweAmce89/tvd0/JWHF46vESW4+JTeqUQZZ/XkBxfcBcdn7/dD7RF5kT96+OHY/TDt9VTWSwkd+3hvIQx/cOkhZ99ae9fVP4921rcTjfbiq79JlKwZFAfw9dWlb7xxbC24qJf7z18+23qw9yyL7lJs7sAQ2yfGv7x/K1e/woGIsHBiceHd9tvaR/e+N5ZLLi6snam/Rr/81v19FQE+gfA3JRkQJ459hWhflnAo6nOQDPIw6DD77TffqQeB4teOKV0OAIcX1rn30939Cu2bj+prp4mITpx5/ez9eECaMSEB7jv1Kl33hBVkXvVfqIWvRsVei/8n8q3S6+k2x+ml1I793Yt9Eq0dHVrS/Mnx8xe/5LtVof2/f0nkdez4u++sflWes6c6gBfra4vRkosLJxbr3dPLD5V1F+XRgbNFsD83svyk/ZxOvGOvSqJ/RERrF1bP+v9nXbFCUgV4/u6F+GYLHxcXh5a+I3hwXRbWLqz9zhL38enli4vxz3L0FoBDA+Pcc2O6H+9+5n93XFuNyDq08M2LMd0aR0UmJ6LXU10vpXbs6e6L595/F76+wkyIlwJjKU2/+vjBs+fBH4vHL15Yu/3O2rdX47PqDAPIX6nfN3XdlUcHzpgp7M8V8+JXz4no0bPtB3sP/FU/43bzciuY6Rg99Ccv3rYAIqJ0ASHP7j9cv880p7A/4/W3loPn4PmnO1v3954RLa+evOw5FqTuC1f4KS28vrSfr7cAHBZY5573Qo1f+C4+WltZojEzn2XT0B/tdLb3ngVb5hd/9XfqMhPAvp5EqnpJqWN7ez996Wl5Nj0kTBuOpmWxVPaevPPRqx+wKXyLC2sX1m6/8dmtW+Mw4qAwOK+/tSqT8bcGLVw8u/ShyM0YG5zcOnB2pNmnlzkfkcrek29dfxL78Onui+dnFqL2+Zc/f0mu8V974+TZF08e7FFlb+/D7b0PVQWmgEMLZ77mT14e7Xzrvncvn42fbB075j67wgwlN6BFRBXaf7Z3QL0FIBO/Vf9V1iL/bedV/sOYc8/9X4X2AhcfnT52lvYCFx8TJvjs/W3PnlVo/8H2w0wyueFeT3W9lN6xCu3/+JPPLl44TkS0uPyN1SffG0c0SWjCRVTG43decH65xeMX22vkB8VT+xBRXC+fdRiZj7fHXw32UC8uLHNRrtjg5NaBiuR7CNPsk0L4LoHl1ZPfeOPYa4vxex8Efiq0/+nP9i+6k5fF5Xfby+++3H/4iZfLTpQuMCW+8pr/lDynhbOriuvY+Pr9oHoLQDb+9cV/pS78t7f+h/gLzrnn8vHuZ++edjXpcW2VHrhuAzZM8OiF0NioyEyA1L2WqpdUO8avHZeWvu6nFaTurXQ3urj+lYvhMQgLFy+e/PSDJ0+V+sAorqg5jOoiXo3z3cunAzOQ4yEU2Kdo+C7nJifmTLwUnt1/+P6xtfCUisWFtQtra2989r6fTpMqMF1OnF4W70pWM9UH3FsAlHCcyesIp/N+QiwP4+Jj9J007qsiM02U9ZJSx/i148dBfEvu3ItXsrf34fbej9nEhMVjZ5aePN076MEJmFAHSsn+EIrPL2fyC6KhP2Xe3Agegv3nj57d+mjn/Y923v/0s+ci4QfbD8/3H0a+XTz+7sWTy8oCB8GjF4quzkL0FgAGx8nwT1yD5LSwOKeP+SkGv/z5S+9/J459RSKtIjNNlPWSaseYTIfj2qooPqdGZe/J1qexBc1BD046yjpQSI6HUOzfYx2yJ86s/s5utvOg2DSB55+Og7xqZ2lh44y4iLs37eP7C2++teptHYhmbaYKTEYYNwrcspMw494CkA1n4vUTc1pYMqGLL0QU/4ijIhM7++eYIEiWQA69lN4xJktibWWVuPjcdJD2IVRcseBQNDSlkkYwZR3Ik/wQfv+P/uQ//oc/iH0oXj9V9p5sPwr+WrjYXvv26kIw/V9eWvqdjbUfXlVKNzxxbMkt6CwtfediPHnRoaVvX1374cbS8hIRUYX2Y6nhqQJTwXNpuh0+s8perLO0cPat1R++8/a3VyWFD7y3AGRlwvVTLHi+fv1e7N/5fpgwvbayRH78w/tocbm74esBWjj71uoPr66eVZMh8pPu3Mrf8PwQy6urH0iPsEsnWS+pdiwmefq4MD4Xw6Glb199+4cbJ88uMUp19eTl4EiBly8+3cszgJcZmTc3wrw+lcXctHRgAslP3a+/+LXq+omIPt7e0a4GqfcLaxfW1i7ERBI0b2iK6bTUVe2zcOJ0vXu6Hv84vMepAlPg4wfPNk57aZSii6Wfq9Z0EL0FIBMOTbZ+CsP+9HBX9Bwzy4ggi+/p/WcPz/g65HS9e5V9KbxdUyoykcrloS8FMuglpY7xkkSUag+WFl7zYjziDjz8xFsGKQ0g6+uKy3iS22qLoenpQDHJD+EXv/41LyD9/dwK7X23v/Pwpez7JCq0/+Nbz4ShJmX2g5uUVyAblb0n73wkDo9Ngyn3FoBM/LPjBP++/8d/4v77L9/9/n++9offfu/K7//BZVaAL87+FIDw9NLIRN7fqFuhve+mvVNqMvs//uQzwRcvn916JPg4qR5lvaTSsUDSjHQjzbm3t5+g6J9/Gh7ToDQ4yYrr5Wfv91V/ZWLGOjDyEPL/Pv/15/xDmJRf7qY/8rmYz1/u//xnL8xd/kSm8Nmt7D15p7//nYvLwXlQz19+tn3rKZ2N/GZHhfa+26f4j3Qxxz2lCsg6oEZEvjIev/Ni4c0V9uwpopf7D1++MNWOn8rYWwAOCNboXP6D3//+H/3x//vyyy++/OLLL7744osver1ecnwqPDDs0TOZG4CdyL92bMH1r7i7fMRvhF9QUaZDJ7/xxrK3+nm5//CT8ffG+2c33CVIksZnUdRL6h1zYTLs0z0lFdr7SZ9+HvnRV/e4PIGiUB7AuOJ6/vKzn37y9NOMO1sm14EJJD9jn3/+OS9QcRxn/fq9iZoFABSY36r/av3cv4x9eOU/XfnHf/zHL7/48kc/+lHsq9t3/qdwfy6Q4dDSd/xoyIySCw47woeQ5d/9u3/7Z3/258Gf7kM4s/ONAACFgZ+Z/uH1G7/3e7/7F3/xV9PYGXXUYU4Gwk+eSgmetB/86Q+I6Msvvvz888/3f/XLH/zJn/7u7/6bf/qnf/rt3/7tv/7rv2GLSONPAIDSIPT4/9mf/6Xw83l39pARzeRGGpSU4AF7991/v7+//w//9x9+8X9+sbX1g392nL/4y7/64ssvPvyvfx17CGGfACg/WdLLYZ8ywpzimnVb7pGCfcbeu3LlF7/4RbfXCz75m5/8Lf8Qwr8HQPnBomh2vB7+2hyce0nEHsIffvCj1McS9gmA8jP5+RFAhvtrPiCVHA8h7BMA5QfmCcydHA8h7BMA5Wf4v/73vLsAjjo5HkLsfwIAAFBEfmNnZ2fefQAAAADivFKv1+nW3u2rb8+7JwCAorCzs1Ov8yeNAnBwrF+/h/1PAAAAigjsEwAAgCIC+wQAAKCIwD4BAAAoIrBPAAAAigjsEwAAgCIC+wQAAKCIwD4BAAAoIrBPAAAAikiifbKHvXajUfFpNNq9oW37X/bcb9rDpCqG7aiQX6pSqTR6iSU5aTtNGgAA0rGHvF5TLxwtXWk02kmleXGRfEzVupUKa1WXLAWO45y/dtfhsAxdXEDrWp5EVyMiIt3gS/t4lYQikVqDqpJLU2ozAIBpMh6P592FGeGrLU6vKSkYprSmaVpKaaurMyJhgajiY3ukRWuNKUh1yVJw/tpdiX0KBkLrGv6FW5bR1TVmJNINFGee/E+8oU0cVa96XecqAQDMlLLaJ3/Kq+mhXjN8I5KqYvzSYWFGVXKlg7a6RkTNWQb7t18+ogutsCzfUrpkSZDaJ5WlkYIYb57CjwTfCStXkAQATJdy2ieZwhJqfuXSwaQ7Ulr4obRSXoxTe+qSZeH8tbvi+JO1axIRaSs14dc+1XMbGhHR4LYwkjS8PSAi0tebgi+b63pCUaLhVseUFgYAgIzYd7ZNItK6l2NKpbp5RSciMrfvyCM5XmmBSvJ0mblrhcK9GwMi0ro3N6uJffJULU9tRcsrWSLE9sm7YnbAhSQaqETzlGag3ML8kwQAALnwNPzqKd5kqGo88aTdKz1+HFg3tylt41yydZI37NvSsDV1yRIhtk+B3Wkl56YkGagU8xQaqBuCzDzPPKXfXgAAUMF+PCaSKPLqqVUiipiYDHilQ9PhKT+RJYwX9ZZug1YjTCK0h+2a6z66Ei6/1CVLhCS/vLp50/V2moNWrZKQfyk1UKnmiah5uauRaFHtLY5LOuQAgDkgdZARqTjJfCOU4AP0rVtoCYXZ4NFCzb4bWTI7rVqj3RsO241aa+CmcPSb+STLgyPJL3fYxBYiItL0WB6KJyWMGspidtHPxSG/IDMiuSoAwIwoY35EoiKRZh/wFXD6KtCT/hdcDns0GVzUhWgRTRep2qyShx1pfoRLtdkfOW5SORGROei0arz5D5ad7ApKYfVEFKy+zM4WW3arYyL0BAAoFs2+a6HMTs3daOuujGqtgbcwi/vzNN96jEaj0chxLKPrxU1ipxrYvS03+YJ8XStStdkkS0Hq+UbV5iZrpcxB61I8XsRnOiiaJ6FxQ+gJADAz8oWYXJp9xzJ0dylkmqZpkqbpXUNymIG2cbPfZNVYtenHTRiFZ/calVpnYLr7pEbBeswctGrRU3PUJUuD4vl71eZmf+QtLKOrHSLeQCmbJ+KyJPy8TJgnAMA0SQwxJeT2Rak2+6NR6IMajfqbvg1SSaHzEzF8gvwGwxl5Fbl+Ky/SVAtWWuqSJSLL+bD+YoefgUQNVLbccH/zwPYdO8iVRGYEAGAmCHPIvYyGnMTT9bh8vrSSuhHPb6jGV1rqkmViSueXswYqq4OOSePDplwAwGxIyiH3lk/5NA/vL+I3RPlEDaFKyntWyVKRyT5590G0CA4NVPb4UZAlUWthUy4AYDb4rhouQOFFFXKZJ3vY5tWWv4DiWxIeQpG0pItaJHXJkuAI8ssN3csmt5jDCbkkSocvFCBN0xTneEbO5Y0XRX45AAdMGfPLHeG5135OneTc1egBrVGlaCUoRcWWLGHjjLrlfi4iXbI0yM6Hlf20BiWeQs+Ukg+VxNiEBuoIHX8IQFEpqX1S/3mNQJvxP77AlxWqO8WWImJabKNU1GQqS5aEhN/XMLpdPXr9mqYbVuIYpK2wXBmJsZFbIdgnAA6Y0tonx3HCFHFPs4kOHhCtn9xtNhGlKD6zQCIvFXflYtpWfBqCsmQJOH/tbsVxnPXr925ffVto6wEAR5CdnZ16vT7vXoAjzfr1e1PK3wMAAACmCuwTAACAIgL7BAAAoIjAPgEAACgisE8AAACKCOwTAACAIgL7BAAAoIjAPgEAACgilfF4/N6tvXl3AwAAAIjwSr1ep1t7OD8CABCA8yPA3MH5EQAAAAoK7BMAAIAiAvsEAACgiMA+AQAAKCKwTwAAAIoI7BMAAIAiAvsEAACgiMA+AQAAKCKwTwAAAIqI1D4N25VKpVJpD2XfNHp28JHda1TcD9vMpwyeQLS2fKUAAGAS7GG74emeSqXSaLR7Q6ECEheOlq40Gm1BaU9Liojps1lIloas6ye712gNiIj0K5vV4FNr13T/Yw46l8S2RkC+UgAAkBe716jUWgPTDD4xzUGnVWsoqXi716h5pTVN07ziqqVBVrLZp2G71jGJSOta/aZExuxs5bhV+UoBAIA6gQbTDctxsQxdIyJz0Eq1MX5p3bAcZzQajRzHsboJpXXD4RGqzllIloAM9ilcOhkjZu0UonW7OhHR4EaWxVC+UgAAkA27d8PXYP2mr8Kqzf7NrkaUqoLC0mFhourmyIACmxXK9snuXUpdOtG5y+5kIttiKF8pAADIgH1n21Vhl2MarLp5RSciMrfvyE2MV5r09bj+a667pXetKXYWECnbp3BhK146+fg3WmGtPHEpAABQxwt4r57iVVhtxY0lpZsYbaUmKz1+jAXUlFGxT75jL3Hp5NO8rLRWnkopAABQxH48JhIbGKqeWiWivCbGK40F1NRJt0+qSyef6ubNHO66fKUAAECNIF9YhLcESsA3Qgk+QM66DVqNgHa7N7SlRWchWQLS7NOg5eZE8D5bOXDyAQAKisi9p4QfZopvhrGHbTdxQoQZMBh0WrVaRZqJPgvJQ0+afdINQ3xTEoGTDwBQMpp9XxnWKpVKo9Fwt+nWWgNvYcaYvmbfsSwmAdyyDFe7mYNWI6LfZiFZGtL9e+FNyWChgoSYjE6+PKUAAECVSbIYmn3HMnR/X65pmqRpetewXBUZo1qN/NHcHDmGWL/NQrIcqORHNPveHrROTX0d6Zu1jEuoXKUAACCFxBBTQm5flGqzPxqFa5jRqL/p74YSZl5E8FyECjZyFpKHELX8cj97IVNwqJlrW1O+UgAAoIIwy87L7cvJ8PaAaILIFpChuj833CWtbqGYjIc76j3KVwoAAJJIyiH3lk/83lsVPPOUrzBIIsP5RoHvTT0WFxTpdBJSO6dTCgAAEggS8OK+meDkohwWxh62vd2h6RnOfjvaxrmUldYsJA8jmc6HzZEq4efkZSNfKQAAkBNkCLcawS9q2MNewz/1mrEwtvBnhNq9oR3uN7LtYbtR86zTTWZ36LDt/WgHU9Yetr122N9+mIVkqXAc5/y1u/yBuF5GCndYruVbDvYbV1jrWo4AJrclWlu+UgCAWTMej+fdhdlgSWa+WkzLBPqH+VyYpSdSYTJBihycPivJ0nD+2t3Mv58bpkqoptg1++4B9kTaino7+UoBAICc6uYoTBEnIvIyxEexo9tqXlYcm5PXvGx02ZJeUYc7WKfZtyyjq2u8rDVizz6fjWSZqDiOs3793u2rb8+7JwCAorCzs1Ov1+fdC3CkWb9+L/P6CQAAADgAYJ8AAAAUEdgnAAAARQT2CQAAQBGBfQIAAFBEYJ8AAAAUEdgnAAAARQT2CQAAQBGpjMfj927tzbsbAAAAQIRX6vU63drD+REAgACcHwHmDs6PAAAAUFBgnwAAABQR2CcAAABFBPYJAABAEYF9AgAAUERgnwAAABQR2CcAAABFBPYJAABAETlE9snuNSqVSqU9nHdHjgDDdgVjDQCYL4n2yR722o1GxafRaPeGtn1QXSs8dq/dbveGUx0Qd8jDMS/SoM/ieifHm7bEaLjjNu/OgUJiD3m9lqV0RC1WGo22+A21o+24gmI5QY3qbat3/fDhOM75a3cdDsvQxQW0rsVLHwRWVyMi0o35NB/H6870OmR1dU1+n7QDvW7v5rNtTv16p4TsOfWHbV6P6+FmPB7PuwszIniOc71gbGlN0zTmr9iDxkhG5WLtGNK3Pt4hdcmScP7aXcn6ye5dag3cUTf8YbcsQ6BBXU9Qo1daIy67wOqpVSIi0tdrU2mlUesMTCLS9K5hhY+6P+jmoDVfb9t0rzeZHA9V5BW1LMvQNXfYOrWyPpylf/VmwLBd67hvWajXDOUXzO5dckt3LcdxRqPRaBTM5M3OJeZO+O3ohuUKOr7FirVjPx6bmqYzr7zl26FYh9Qly4QjWj/5tl/BLrs35yAWVXNaPx3ABQZTLWkrltHVDnIFJVg/HSRZxjyhq6EPoJQTzFk+meVcP8n0mv95ylh6YrxU/BmU6k9PMO2eqfsqiurVmArS9ZO1axIRaSuznyoDGm51TCIi3RhtVsUi1ebmaNRvHmSvSkC12fcUwuAGVhnAvrPtrn4ux96k6uYVdw20fSfpMfHUIk9tJeJX8tohfT3+xjbX3XZ2rcSOVs9tJLj6hZLjx6V8wMX2yRvvxGH04tKuG9Ds1IKIXVQTcDkWCQG9qGxDGnd0A5yBnCS6GU81kDQdiWGyImkXKMsnVL8Kr5obnic1/tYk4rbe6NlEds8fDHbsFS+fGwHp7ZFer0K0me3tsCe/d4oPlTq+heI1j0q3KeHxiMik3/FCj9IRwbMvq6f4WaCKxpMK+XYvNp0XTe+9KhStCRYIkvyI0OMU+mnjIobOxv00H2ahKQtFChe4kuhfKOn797qiWvlYYlhDQhgz7CEj5ImkXaDQ35h6FbKRzro+d8tp3W4kPcCvRfHyHUl6ga4LOiW83lgUOPwj2k7Y2+R7p/BQxUlzRQp9N5m67UuJZVTu+PxHKStl9O9J3XOOo+p5898WNizvfxaOflJDSp5zvsppiB46zl+7K8/fYxNV9K7MSiU4wYN7yYT0LCOoVqT74vkYusbbp6BOr0L/Xebqi/eaV1SC58gydC16MdIL5PW1ylVIRilzFIEdjWAw/HFWu3xRh6M5MGn2Kei8ERlB/oqy3DtnavGnWCct7pPkbis8Hkp3vAijlJUy2qfEVy3RePFy5GpF/97EpvEJLaW+76GKVDE5ZTZPifbJYd+M4H7Ixpsfbvm6QKAolZQ0EwoUTXIV3tO4KlN6wdXtUy5TI1avolWNZOWn3hzXVFq4OMU+KYeLM9+7qdqn+FUqdzu9Fyp3vBijlJUS2yfxk6KuReJ+IZGLKVxnRW9koFHjc2BvBRzWmeXZn9+en9kizy8nIqJqsz9iJtTmoNOqqW4Hk4Yiw5Be6Ma1H4+JiLSNc5L0ABbd6DcjYl7ic1rMkbgwpve32dmayha3TFeRA+EFJuRUcMQvPzVcnIxXXL/CdcCLAvNO9gnu3dRQ73bq46Fyxw/pKAEpdm/LTX8gXy/yajEIe3ZqbkTSDT3WWgMvwyISA7Mfj00X/xNz0LmUqmmHbX8P0E1lHXDYSD3fqNrcZK2UOWhdUonCJoQiAwMVvJlJwgrE9W6IPez12u2Gj7t5genI5hVdI6JBqybfBK7MRFcR01LNPjONkIfxUki5/AmH3Ss+aDU4vMi9gj6V37upEUtGVe926uOhMoCHZZSODpNkutm9RqXWGZius3bEbp6KbbNr9h1/Dx65pkfT9K4hPPagujli3nZP13pmT9qTo2CdiF5RE6s2N/vNcyuNWscks7M13EzJdfZmlmr409CpJqvYvUatI0kHDWn2R9Z6+1JrYJrmoFUbkKZ1r9zcbOa44TmvoraiEZmulpriY6Z2+dOBmfdFKEb2kf8oclZEodvJj0e2O17sUToKeK+aGJW5Rrjp1vH1X7XZHzmXe41axzQ7tfYph1GM1WZ/1OzH67hNlHjTq9XmZr95iiqtAZmDG73LTYH5GbZrrQERaV1L3X9yGMlyPmzg9kmfgfiHDajVO333BbtNXBDNjrTe7I+8oLZGZJqdVi3XZuycV+GP1OD2FHeAZ7j8iZEHforx5kj28ql2O+HxyHLHiz5KRwjh/VKZUA9vD4hc92v0i+rmTffVSn+JvTpSfRbNy26Noh1Zds9demtZnPuHlBmfXy60ZP72tfhNmt4Ws+BJGvWbVaU7WK02+6ORt/qeyFZkvQr/SZziGSWKl59tL8a0ix8Mwe6yIEaUq9uJj0diVYdilI4G/lRQdC+8WQy/ozYkabmsOh/338yEZlIIHCO6cRQ27GeyT97oCqw/NyfxN0p3tjily++u9oX5PZS9xgR7DrknydpNKVGVxqwVJsl5ryJYlg5aU91gmXr5/vyfu0fDtqvUk/GLJ++5n4CJF9S2v45k0xMm6Hb88VC548UfpaODVCn5sxgVu5G0/Er21fohI5Wd+L6SjOnawDHStY6AcSIS7881dC+bPHJOqTg1MszedTe1RvbguPJM/qU8wZL8j31hT5TfnytLWBck6gpbZhONYznzooTrtAtkZFWuQgy7gTNyPix7KG/6btlMl882G/SP2aCW3l6BnU4AABc+SURBVGKwUyCeYWsZXV0TDKLKvRNcgMU+iHGEWcORs4xlJ0undFvl8cjw3M53lLJSxvxyR7hfLXzio3vRpPvh5Fnj7D2Pqk8rSX3yqrYrfHQVTwksD7L9Twk/WcDvUY9HNcQbatNqkQgLTqNQe3ujByiE/9MoYp8o+o2LRA3EL1DUbPpVSLEkBxFIKkk+LVfl8j1BQaOabrgVpFtEtnx0C4fIyKtq3oSHKulSxaMmPi0gvdtqj4fSHZ//KGWlpPZJrpT4n72Q3yDhjYyMvvKPEyXFhDUF1cJSuj268v25ltHt6tHRjx7tHhMOdaAen1t0dU1TqSUuy20Hzjq7jJyE4NbmSkZOiol1T6jOxBcoUxrJV5GMFeuQO2JdwZClneaudPmepKC/qvaJu2Bxj7Nq3uSHSlRDFNmoZe226uORfsfnPEpZKa19cpzYE0/xVXIg437LWRRDoBm5CvjbLVUElqBG0cObPBETPh6HnPPX7lYcx1m/fu/21bdTLh4AcGTY2dmp1+vz7gU40qxfvzfj/D0AAAAgF7BPAAAAigjsEwAAgCIC+wQAAKCIwD4BAAAoIrBPAAAAigjsEwAAgCIC+wQAAKCIVMbj8Xu39ubdDQAAACDCK/V6nW7t4fwIAEAAzo8AcwfnRwAAACgosE8AAACKCOwTAACAIgL7BAAAoIjAPgEAACgisE8AAACKCOwTAACAIgL7BAAAoIjAPgEAACgiUvtk9xqVSqVSqTTaPTtBoD3M1J7da7f9Cu1hr93uDYW1z4DgilgajUb7wHoAACgA9rDdaDA6IJsWsoc9tnil0WgPbXH51IaGbV4nxTRUqH4ThDOq4cOD4zjnr911OAw9lNG6Fi9gdTUiIt3gv5LilXELRf44ANgriiO8QgCOKuPxeN5dmBG+2uFUgJIeYktrmqYxf8VViFJDSUqJqzdB+KCU6IFy/tpdJf+e2dmajnmunlolItJWakREkT8OjMidtAxdIyIyO5fEq0QAQHkYtmsdk4g03bCiOsActFIXIXbvklu6azmOMxqNRiPHsVyzEVMhig01+zLl7Jk3beNcNdoJoSnqNycfm0LiJK6ftG7Xtdn8AiPP+mmueLOPeIf9aQ6WUAD4lHP9JHPZKOoA32RwUpxqmbChsMqIoPvZ4dG4k6Kyfjp3uavRFJdQhaN6bkO8DgcAlAn7zra7+rkcW21UN6+4a6DtO0leFGvXFH9RW4mqkEkbIhreHhAR6Vc2q4lyZSfdv+cPqcLyl8gPHrIxQT4BIZJa4f3REPnXxN/Zk4U3FUm5kJl1OyKF7A0ApoVnX1ZP8TrfszDmrpVQXibkm6MgUjFpQ3bvhmue1svqtlPGSfHvWY5kVSry7zEBvKTgYbSoPE9CtJ5moo6RJpRXzLIld9YLmUm3QzFGCJ5HcNCU0b8ndc85jtifJpUirctGlSimCCZtSCZyBP17SvZJqIwF9snqaqTp4a1jS7KDHSua4qxlSwZ3jmnDUnu0xPZJ7BBWupDpd1tQ0jJ0DfYJHDRltE+JeiLRpvByRKTpXcNLr2KzICZvSFo8sI4But41rNJqB3X7FI5NoI2V8yN4uxAvKtb0/I1Uj08m9IO5vd7fFHm41C9k6t2OjzkAc6LE9kmsJVTtEyMb2Km4+piooYRtN9L8crXc+EOHan45EVHTzZOgwY2sidjx4CGPn6IwuM1EuHynbphf6X0iiBk213UiovFjpa6ZPv4Hg1ZNJc4Tv5AgMjetbrsNmJ0txJwAKCh2b2vbVR2uOjAV1Ycaw62OSSQOPTX7TmSxZFmGq5TNQUsYCD/8qJ9vFKSepGby2cNer91u+LhbBpLr5g0Ur+f9qOOg1eBoDYjSgo4esdVOuCmhxuV/pF6IZ2Cm1e3q5hVdI6JBq5a0KR0AkBvFWawQu9eo1DoD03XVj9g9TTXOQuRpyMvb4zP/PKrVyB/NzZFjKKrlw4mj6N9jPnQ/Ffr3ZHumKS10FV8Tp2RfiElenMtX3YIglNqFzKLb/pZh7zutq+Z8BGCKlNG/p5K2kOgo4zMhIhXHM76yN5TvSB3F+PvhI4t/j4gCJ5/MVrN7prlsiLSqI0sR3ycmyq+U37xRzs0C/vItWMioX4jfbdfrOY1uV5v9kbeu04hMsyNY2AEAciL0stiPx6kF/T1JRvywhurmzS4foMjekKc+kFYekvH8cmYz1B3uy+D+jfrNamZLwRoosZ734j+TrM/VyHIhvsnevmNPs9vVarM/Gnk5ftHHHgCQA+90NeGb6DnhkyyDZ1mE57H5VU/UkBd6kvr2jiKZf1+j2fd0ZkcSVuLun7WrWHNgoIbiZYh321P3XmfGn7dEu654Id7iy9y+M/1uV7MlfgAA5HhvE+/+ybIfNmlV5KuMPA35X/EH7iWTt9whwckSfxL4ufiwEpuuzQRTUuJPYZvkZX4nBYriKZ2W0dXTkizFjl/L6OparIfKFyIYjwm6bXW12Kargz7iHQCXMsafHOZVDcO6fg5cfEO9dHsiv6k+2AUllE1pKFZA+qobOrnqgQk4JGmlEpBl/5PgS35coscuhP/T1OxTpLwk2sdmD0R3MaXdouQ8hWh7ihcSvZ5Jux07Y0L1ugCYOiW1T+o/rxFogPgBBLLXWH4UTHJD0ebk73qC+uJ3YJWD3PYp1LdaV7ocIfLOYHDvlIp9kk5R+DaiD4rKNmrJAxNfs2S5EGY4ptPtmIxW1icPFJzS2ifH8Q5lSVEA0lNp3FeUf4/zNuQ4jmIKniVouuznR1Qcx1m/fu/21bfFphkoYfcatY5JWtfKm0MIQIHY2dmp1+vz7gU40qxfv5c5PwIIEOzKBQAAMBGwT1PATwyFeQIAgKkB+zQ5/pkkME8AADA9YJ8mBj91CQAAM+CVeXfg8NPsO05/3p0AAICygfUTAACAIgL7BAAAoIjAPgEAACgilfF4/N6tvXl3AwAAAIjwSr1ep1t7OD8CABCA8yPA3MH5EQAAAAoK7BMAAIAiAvsEAACgiMA+AQAAKCKwTwAAAIoI7BMAAIAiAvsEAACgiMA+AQAAKCKHzz4N25VKpVJpD+fdEQAAADNEap/sXqPC0Wi0e0P7IPt3WBAOlwdMKQBFwh62G43MWs2bGSfQ6NkKwpw+sO1hj+1QpdFoSzqkLlkOpPbJ2jX5D01z0GnV2NsAXITDBQAoGHavUam1Bmb4vrparTGnaeSw3ajVWh22Q2Sag1aNs2PDdqOiJlke0vx7uuGEWIauERGZnVp5R2QiIsPl02/Ou1tpuJM9TDtA2Rm2ax2TiDTdsKJazRy0UpRasy94ud0quhoRkbZxLvYT2un6wH48NjVNNywrqMzTshTrkLpkicgUf6o2+yNDJyKiwe2SDggAoKTYvRsDIiLdGPWbvimpNvs3XfsyuJFvhjbccm0eZ54UqG6OnNGo36wGRcP+RLWsumSJyJwfUVtxB2T8GJNtAMDhwb6zbRKR1r0c82hUN6/oRETm9p0cWm142zV6Vzazmycx1XMbWkbJkurj3Pl7q6ciN8ON27ExRz5w5+YQNHq2Jx7IysOTkUBmaigwFjwU9UHeDVZY9vmUyN7PoDsxH5ytFumNDiN7oW5aR2tARGR2aoJALwAlwQsSx1QXEQXTbnPXylppsCZbn74bX1upTb3OQ4bjOOev3eWdpJ4fj3Ogep9rXYv7jIhI0zQtNP0RKc9Lq3W7umByIPDUMtUycl7huLznAhYQ7URyN7SuFTh1k+pQHi6OPP2UjBNTVWTYYxWFYoyQJ2MZeqSkT/p1gFIzHo/n3YWp40eJhO+ySK+pICvnfp7zPfI1n0LxDKKHjvPX7maxT5YRqPRo2kRXI03vGrwtit43VjUH8cnQHERHOBDWuoEka1Gi0v5dYsOHlhG0x3U3VOWGFZOVfJ5y/xXtU95+BqMVBkeDF4MZd4t/WwQvpWXoWvR9cotlfjdBaSmjfUo0QYnGK0edwZsezvn0LpPbIEVZ5USaKaN5UrFPPJqudgt5jW2FAy+a4EfusS8rXSZFDKdEOMVM6kKLKvk85cGVDhfbq5z9FDUt7VV82JVMD+wTiFJi+yRW5bnsk/yFTtKfImHPhmVUsoERLOebe/7a3azxJ617s68WBvQTKTh0I8ydISKi6qlVoqjvNzWSySIVDsOHAr9yvBteL2Sf5/BMT6ufI37AvaoEIdnmuk7EhEvd22B2tkq9jQ+Ag8fL2xOGnpp9J7JYsvx1kTloxaO79uOx6eJ/Yg46l1LD3sO2GzfWujenlplRNJT3P3nDa3Zqsti5Pez12u2Gz6WO8o5V3pQlRDJ5koR9xa+Q3iI1qBkQzc2C7Q5T6idT1aDV4PByHXxDV928omtENGjV3MwImClwpJlappuXtyeabxIRUTUyza02N0fegsfsbEWywaubo6gh0zUic5C4Z9g+CtaJ6BVVwWpzc2RRo9Yxzc6l3rnonN7uNWrq5mjK2I/Hc2o5GzPpp2mKh53J/Gn2R9Z6+1JrYJrmoFUbkKZ1r9zcbJb3oQZAQG1FI5JpqUwzYiImby9LWnlzXafBwLWRkhewWm1u9punqNIakDm40bvcFNQ/bNdaAyLSupbAu1Iisu3PFW8TYPdki7MhZorvmCs6M+inPCoafWqrzf7IcSzL0DWNyDQ7LRwAAo4oQk995smj52GfSVo5ETUve95AwY4su+c6STSh679cZIw/edGNyALV355mRPY2T4bna8u0FBcK+4+R+rxo5kyjn3nGh6rVZn808nL8yrrhHAAJ/gRR9NZ4yydla+MfGSHz7c2MwFWlG6PiH5w2MVnzI3y7zqk3biuZtTtBt/ykhJijlmjYdlfVkT4JjKbHjGc52ZhiP/3xybHfvRrPoAiYQgoIAMVF+gJm3WPry2c90Ui9nK8QYhPWwFXVtY6AcaIc50f4gfzwrCpBhpg9bDdag0kCUoEdDJNd7GGvURHWygi3o52ozWmWI2aK/fSqMvk0H3vYa4dxVbsXP1PCf0fYB99bjg1uu4K2jSwKUEJYrTJk1Irg9bO9H8gQZYMFs0lZ6GnY9o5yCcva4WvOlrN7Dff8HFY06FGsS75fr+xBJxYn4/kRor060fMjwv9pJNr/JN39E/tCdI4Daboh3JmdcCyDZAsV1w3Z50pbb1XPj5hCP5k2mY3G0YM7wrTL6BkTvIC4WyXdUAFUKeP+J8dx5C9g/PULdBr//qXviU3YDanJdl2mdSk9nl+6Pbo59j+RKEui2Q/OdjBNk9zDJEY3N7LXzdLsj7yAvotbq2RZW90cuQdMRFS2bljSEvNhmv1s9kdBVd72CU3T9K5hhYv/6mYg4+2v0DTdsOK/+VHdvGl0w6mFnuckZgCKj/sCRt8/kWKprXsnQ3BH4KWllRNRs+9miTOteM1Yo9juys1RkigreUjSwKZLxXGc9ev3bl99e949AQAUhZ2dnXq9Pu9egCPN+vV7uc8vBwAAAGYI7BMAAIAiAvsEAACgiMA+AQAAKCKwTwAAAIoI7BMAAIAiAvsEAACgiMA+AQAAKCKV8Xj83q29eXcDAAAAiPBKvV6nW3s4PwIAEIDzI8DcwfkRAAAACgrsEwAAgCIC+wQAAKCIwD4BAAAoIrBPAAAAigjsEwAAgCIC+wQAAKCIwD4BAAAoIrBPAAAAiojUPtm9RoWn0Wi0e0P7IHpm99rtjG3lKDIVhm3BUPG0hwfdMQAAjz1sN0L1pqrT0l/zRo+pxraHPbaZSqPRFjWTUC2vMRTrLA+O45y/dtfhMPSkUpretfgyU8Tqam5LujHDItMhaDiFg+4XAHkZj8fz7sKMkL2tWurrmawSiYi0QCsaukwncM0kVBuVzVBnOTh/7W6afy9y5ZZlGbqmEZE56NQik4VpUz216ra/XpthkelQ3RxFx9V74uJPTb95sP0CAEQZtmsdk4g03fBNieXqfXPQSnFwNPsyRerZPG3jXNUVtR+PTU3TDSuYxVu+dZE0IzQxEY2Rvc4y4CSvn0TDZgUWv6R2e1ISxg6Aw0A510/+2in+Zvqfa/m8Qt77nlZa4uBxS+dUFnNzGh0ECusnEdVm37sjgxuzXEMBAMDUsO9sm0SkdS/HPBnVzSs6EZG5fSeHPhveHhAR6Vc2q4ly1XMbaoGADAR1jh+XUhPnzN/zLRR/Q23l2GM01NdoNNpDO5T08jOi69ZI3VxoUFiEb8lriu9Pr+GHOO1hrx22M+2UC7ahoJ2YtzTDMKpJJg8dAOXH2jWJiFZP8XaktqIREZm7VtZK7d4N1zytq7rvtZUDDkAcZpzs/j3HcSRLYib2qGmaFv7BrXwlsb5Q0KuKaT+snKmarZkv4iQlL8Q75Upq3a6oa5mWzyljFzYkaUF9GBUlU4cOgAhl9O/5USLhc6/oo5uknB8WiemFifx7skpLwflrd3PbJ8GNCT4xGJshun+BumRELcvQtQT7JHi4LEPXUuyTf/fYsKJlBNo6mv3BWLIgfBqEILM8AEr2ya/Va8fKPoyqkgpDB0CEMtqnRFOSaLxy1slWb0gDRYGOCtD1LpMFodJ+Kc3TZPYpHmuU3mCuJqV7Gjc2bqHEMpx9koVDxas/JtQoWnxkeHJV7ZOoSvVhVJZUGDoAIpTYPolfy1z2Sa5g3PY8exPOekW1S/PL1TPeS/pu58yPEOLFHgVBwua6TsQE8OzHYyI2GVMJ10FsdrbUAyfScGgYVhT4m3Wj34x0zMtbz+GaTkY3RnxANcMwKkvmGDoAQBrDrY5JJAs92Y/Hpov/iTnoXOIDv82+E1ksWf5ayxy0EvfwDNutARGR1r2ZkplxeMlvn7xgox/s8/4ctBoc7igG+j0hSplAdfOKrhHRoFWrxFIpUnoobMg3UCppL17s9EDIPIwKkjmGDoCyMrVMNy9vTzT/JYpti7Qso6trROagVWtwGVzVauSP5ubIWxqZnS3Jxib7KFgnolfyFvRWQbz2Z+YLEXxD5i+fMiexNPsja719qTUwTXPQqg1I07pXbm42ZTfH7+HhJG0YM0lmHToAykdtRSMSvys5Zs1B3l5aWjkRuUan3zxFldaAzMGN3uVmSqnmuk6DgWtN+fd02K61BkSkdS2BE6ZE5F4/xZZPPnKXqT+Ok7jLqs3+yEul0IhMs9OqyTdO++dJHEbShzGrZKahA6C0CDVP5sms517PkFZORM3Lnucu1z6roOme6yHRhBGCcpHTPvmThzCI5DnB1BfP+ZfZ1WqzPxp5iWqD22laVtiQ/3hl9DLOHPVhzDzgRJmHDoDy4E9YRa+MN91WtjZe6Enm25sddq/hntCkG6MjcGBaHvtk+4dYsWtbf1mUPjPwwveCrb29RoYz/arxNABpQwIfbq7Zz0GgPozqknzR1KEDoHxIFULWPbb89FwNX+2kT4slLQTHB3atI2CciDLuz/WjfEQk298aOXrR+8Lo6ppoVxKzc8fbZyTd/2R1NU1n9/kIcjsTtvSyfQq3NEWvQLi9N/ELGWr55ZKv1YdRUVJl6ACIUMb8cke48zLcmRTdo5mwCyb1/bG6Gml612B2NbLbLqN7Rt23kxEMFZR4g2ZJs8l5FPY/SeBUol+I2eIaSf1XOtVB401LbHeVX7GwWpHeTzg+QnJI5Lztk5NhGJUkVYYOgAgltU/qP6+RcAZ2+p7YpF/ciTaUoGZjOjb9V3xK90In2SfhcGhxWy8oZ3R1RgnKi0QFYzN84WIoWrPGLxskep8rGDmkPrX4wdsnvs8JI68imTp0AEQorX1yHO/0FPZt6PKvg3z9pHZkhOtqir6YwjdYWTD156fKaJ8qjuOsX793++rbKRcPADgy7Ozs1Ov1efcCHGnWr9/Lvf8JAAAAmCbNb/734P//ovqVqZ1vBAAAAEwR2CcAAABFBPYJAABAEUH8CQAAwNxgY04xsH4CAABQRGCfAAAAFBHYJwAAAEWkMh6P37u1N+9uAAAAABH+P5S0qeZUnEuWAAAAAElFTkSuQmCC)"
   ]
  }
 ],
 "metadata": {
  "colab": {
   "name": "Lab 2 hand written digits.ipynb",
   "provenance": []
  },
  "interpreter": {
   "hash": "7f2633a0dd9fad194999ffc17b7b93627efd4bccf6144e14bc5fef7dfd0c6355"
  },
  "kernelspec": {
   "display_name": "Python 3",
   "language": "python",
   "name": "python3"
  },
  "language_info": {
   "codemirror_mode": {
    "name": "ipython",
    "version": 3
   },
   "file_extension": ".py",
   "mimetype": "text/x-python",
   "name": "python",
   "nbconvert_exporter": "python",
   "pygments_lexer": "ipython3",
   "version": "3.8.5"
  }
 },
 "nbformat": 4,
 "nbformat_minor": 1
}
