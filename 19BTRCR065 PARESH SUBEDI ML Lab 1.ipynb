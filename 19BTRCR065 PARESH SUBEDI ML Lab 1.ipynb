{
 "cells": [
  {
   "cell_type": "markdown",
   "metadata": {
    "id": "cu2NXKrTKwbs"
   },
   "source": [
    "# Lab  1 -Advanced Machine Learning\n",
    "### Paresh Subedi 19BTRCR065\n",
    "---\n",
    "## 1. Build a machine learning model for house price prediction analysis using lasso and ridge regression "
   ]
  },
  {
   "cell_type": "code",
   "execution_count": 1,
   "metadata": {
    "colab": {
     "base_uri": "https://localhost:8080/",
     "height": 206
    },
    "id": "Lfmce7k4Kwb9",
    "outputId": "2b9cfec7-7c26-41e4-be7e-2a0bb3eb796a"
   },
   "outputs": [],
   "source": [
    "# importing libraries...\n",
    "import pandas as pd\n",
    "import matplotlib.pyplot as plt\n",
    "import numpy as np"
   ]
  },
  {
   "cell_type": "code",
   "execution_count": 2,
   "metadata": {
    "colab": {
     "base_uri": "https://localhost:8080/",
     "height": 206
    },
    "id": "Lfmce7k4Kwb9",
    "outputId": "2b9cfec7-7c26-41e4-be7e-2a0bb3eb796a"
   },
   "outputs": [
    {
     "data": {
      "text/html": [
       "<div>\n",
       "<style scoped>\n",
       "    .dataframe tbody tr th:only-of-type {\n",
       "        vertical-align: middle;\n",
       "    }\n",
       "\n",
       "    .dataframe tbody tr th {\n",
       "        vertical-align: top;\n",
       "    }\n",
       "\n",
       "    .dataframe thead th {\n",
       "        text-align: right;\n",
       "    }\n",
       "</style>\n",
       "<table border=\"1\" class=\"dataframe\">\n",
       "  <thead>\n",
       "    <tr style=\"text-align: right;\">\n",
       "      <th></th>\n",
       "      <th>Unnamed: 0</th>\n",
       "      <th>Address</th>\n",
       "      <th>Zip</th>\n",
       "      <th>Price</th>\n",
       "      <th>Area</th>\n",
       "      <th>Room</th>\n",
       "      <th>Lon</th>\n",
       "      <th>Lat</th>\n",
       "    </tr>\n",
       "  </thead>\n",
       "  <tbody>\n",
       "    <tr>\n",
       "      <th>0</th>\n",
       "      <td>1</td>\n",
       "      <td>Blasiusstraat 8 2, Amsterdam</td>\n",
       "      <td>1091 CR</td>\n",
       "      <td>685000.0</td>\n",
       "      <td>64</td>\n",
       "      <td>3</td>\n",
       "      <td>4.907736</td>\n",
       "      <td>52.356157</td>\n",
       "    </tr>\n",
       "    <tr>\n",
       "      <th>1</th>\n",
       "      <td>2</td>\n",
       "      <td>Kromme Leimuidenstraat 13 H, Amsterdam</td>\n",
       "      <td>1059 EL</td>\n",
       "      <td>475000.0</td>\n",
       "      <td>60</td>\n",
       "      <td>3</td>\n",
       "      <td>4.850476</td>\n",
       "      <td>52.348586</td>\n",
       "    </tr>\n",
       "    <tr>\n",
       "      <th>2</th>\n",
       "      <td>3</td>\n",
       "      <td>Zaaiersweg 11 A, Amsterdam</td>\n",
       "      <td>1097 SM</td>\n",
       "      <td>850000.0</td>\n",
       "      <td>109</td>\n",
       "      <td>4</td>\n",
       "      <td>4.944774</td>\n",
       "      <td>52.343782</td>\n",
       "    </tr>\n",
       "    <tr>\n",
       "      <th>3</th>\n",
       "      <td>4</td>\n",
       "      <td>Tenerifestraat 40, Amsterdam</td>\n",
       "      <td>1060 TH</td>\n",
       "      <td>580000.0</td>\n",
       "      <td>128</td>\n",
       "      <td>6</td>\n",
       "      <td>4.789928</td>\n",
       "      <td>52.343712</td>\n",
       "    </tr>\n",
       "    <tr>\n",
       "      <th>4</th>\n",
       "      <td>5</td>\n",
       "      <td>Winterjanpad 21, Amsterdam</td>\n",
       "      <td>1036 KN</td>\n",
       "      <td>720000.0</td>\n",
       "      <td>138</td>\n",
       "      <td>5</td>\n",
       "      <td>4.902503</td>\n",
       "      <td>52.410538</td>\n",
       "    </tr>\n",
       "  </tbody>\n",
       "</table>\n",
       "</div>"
      ],
      "text/plain": [
       "   Unnamed: 0                                 Address      Zip     Price  \\\n",
       "0           1            Blasiusstraat 8 2, Amsterdam  1091 CR  685000.0   \n",
       "1           2  Kromme Leimuidenstraat 13 H, Amsterdam  1059 EL  475000.0   \n",
       "2           3              Zaaiersweg 11 A, Amsterdam  1097 SM  850000.0   \n",
       "3           4            Tenerifestraat 40, Amsterdam  1060 TH  580000.0   \n",
       "4           5              Winterjanpad 21, Amsterdam  1036 KN  720000.0   \n",
       "\n",
       "   Area  Room       Lon        Lat  \n",
       "0    64     3  4.907736  52.356157  \n",
       "1    60     3  4.850476  52.348586  \n",
       "2   109     4  4.944774  52.343782  \n",
       "3   128     6  4.789928  52.343712  \n",
       "4   138     5  4.902503  52.410538  "
      ]
     },
     "execution_count": 2,
     "metadata": {},
     "output_type": "execute_result"
    }
   ],
   "source": [
    "# importing dataset...\n",
    "df = pd.read_csv(\"housingprices.csv\")\n",
    "df.head()"
   ]
  },
  {
   "cell_type": "code",
   "execution_count": 3,
   "metadata": {
    "colab": {
     "base_uri": "https://localhost:8080/",
     "height": 0
    },
    "id": "7bo1iMaHKwcI",
    "outputId": "912902bd-7b5d-4d8c-f866-79871d703a72"
   },
   "outputs": [
    {
     "data": {
      "text/plain": [
       "Unnamed: 0    0\n",
       "Address       0\n",
       "Zip           0\n",
       "Price         4\n",
       "Area          0\n",
       "Room          0\n",
       "Lon           0\n",
       "Lat           0\n",
       "dtype: int64"
      ]
     },
     "execution_count": 3,
     "metadata": {},
     "output_type": "execute_result"
    }
   ],
   "source": [
    "# finding null values...\n",
    "df.isna().sum()"
   ]
  },
  {
   "cell_type": "code",
   "execution_count": 4,
   "metadata": {
    "colab": {
     "base_uri": "https://localhost:8080/",
     "height": 0
    },
    "id": "CRlm_zakKwcK",
    "outputId": "bf827ada-22d1-438e-9cf9-7c832523f044"
   },
   "outputs": [
    {
     "data": {
      "text/plain": [
       "(924, 8)"
      ]
     },
     "execution_count": 4,
     "metadata": {},
     "output_type": "execute_result"
    }
   ],
   "source": [
    "df.shape"
   ]
  },
  {
   "cell_type": "code",
   "execution_count": 5,
   "metadata": {
    "colab": {
     "base_uri": "https://localhost:8080/",
     "height": 0
    },
    "id": "SnlXViZ_KwcL",
    "outputId": "2087fb40-677c-4cca-fb61-63e84ead7891"
   },
   "outputs": [
    {
     "data": {
      "text/plain": [
       "Unnamed: 0    924\n",
       "Address       919\n",
       "Zip           834\n",
       "Price         226\n",
       "Area          193\n",
       "Room           13\n",
       "Lon           894\n",
       "Lat           886\n",
       "dtype: int64"
      ]
     },
     "execution_count": 5,
     "metadata": {},
     "output_type": "execute_result"
    }
   ],
   "source": [
    "df.nunique()"
   ]
  },
  {
   "cell_type": "code",
   "execution_count": 6,
   "metadata": {
    "colab": {
     "base_uri": "https://localhost:8080/",
     "height": 0
    },
    "id": "gx4Yl9FoKwcN",
    "outputId": "9efc4b9a-f61e-4de8-811e-d49a06442fd6"
   },
   "outputs": [
    {
     "data": {
      "text/plain": [
       "Unnamed: 0    0\n",
       "Address       0\n",
       "Zip           0\n",
       "Price         0\n",
       "Area          0\n",
       "Room          0\n",
       "Lon           0\n",
       "Lat           0\n",
       "dtype: int64"
      ]
     },
     "execution_count": 6,
     "metadata": {},
     "output_type": "execute_result"
    }
   ],
   "source": [
    "# dropping null values...\n",
    "df.dropna(inplace=True)\n",
    "df.isna().sum()"
   ]
  },
  {
   "cell_type": "code",
   "execution_count": 7,
   "metadata": {
    "colab": {
     "base_uri": "https://localhost:8080/",
     "height": 0
    },
    "id": "nA5prqFiOFsp",
    "outputId": "5c68737b-d595-4331-a3e7-f49027dffe15"
   },
   "outputs": [
    {
     "data": {
      "text/plain": [
       "Unnamed: 0   -0.116311\n",
       "Price         1.000000\n",
       "Area          0.835090\n",
       "Room          0.623448\n",
       "Lon          -0.013561\n",
       "Lat           0.062196\n",
       "Name: Price, dtype: float64"
      ]
     },
     "execution_count": 7,
     "metadata": {},
     "output_type": "execute_result"
    }
   ],
   "source": [
    "df.corr()['Price']"
   ]
  },
  {
   "cell_type": "code",
   "execution_count": 8,
   "metadata": {
    "colab": {
     "base_uri": "https://localhost:8080/",
     "height": 206
    },
    "id": "KbYl_FlvKwcU",
    "outputId": "41b5c42e-4164-476c-9ee3-3166fd8659ed"
   },
   "outputs": [
    {
     "data": {
      "text/html": [
       "<div>\n",
       "<style scoped>\n",
       "    .dataframe tbody tr th:only-of-type {\n",
       "        vertical-align: middle;\n",
       "    }\n",
       "\n",
       "    .dataframe tbody tr th {\n",
       "        vertical-align: top;\n",
       "    }\n",
       "\n",
       "    .dataframe thead th {\n",
       "        text-align: right;\n",
       "    }\n",
       "</style>\n",
       "<table border=\"1\" class=\"dataframe\">\n",
       "  <thead>\n",
       "    <tr style=\"text-align: right;\">\n",
       "      <th></th>\n",
       "      <th>Price</th>\n",
       "      <th>Area</th>\n",
       "      <th>Room</th>\n",
       "      <th>Lon</th>\n",
       "      <th>Lat</th>\n",
       "    </tr>\n",
       "  </thead>\n",
       "  <tbody>\n",
       "    <tr>\n",
       "      <th>0</th>\n",
       "      <td>685000.0</td>\n",
       "      <td>64</td>\n",
       "      <td>3</td>\n",
       "      <td>4.907736</td>\n",
       "      <td>52.356157</td>\n",
       "    </tr>\n",
       "    <tr>\n",
       "      <th>1</th>\n",
       "      <td>475000.0</td>\n",
       "      <td>60</td>\n",
       "      <td>3</td>\n",
       "      <td>4.850476</td>\n",
       "      <td>52.348586</td>\n",
       "    </tr>\n",
       "    <tr>\n",
       "      <th>2</th>\n",
       "      <td>850000.0</td>\n",
       "      <td>109</td>\n",
       "      <td>4</td>\n",
       "      <td>4.944774</td>\n",
       "      <td>52.343782</td>\n",
       "    </tr>\n",
       "    <tr>\n",
       "      <th>3</th>\n",
       "      <td>580000.0</td>\n",
       "      <td>128</td>\n",
       "      <td>6</td>\n",
       "      <td>4.789928</td>\n",
       "      <td>52.343712</td>\n",
       "    </tr>\n",
       "    <tr>\n",
       "      <th>4</th>\n",
       "      <td>720000.0</td>\n",
       "      <td>138</td>\n",
       "      <td>5</td>\n",
       "      <td>4.902503</td>\n",
       "      <td>52.410538</td>\n",
       "    </tr>\n",
       "  </tbody>\n",
       "</table>\n",
       "</div>"
      ],
      "text/plain": [
       "      Price  Area  Room       Lon        Lat\n",
       "0  685000.0    64     3  4.907736  52.356157\n",
       "1  475000.0    60     3  4.850476  52.348586\n",
       "2  850000.0   109     4  4.944774  52.343782\n",
       "3  580000.0   128     6  4.789928  52.343712\n",
       "4  720000.0   138     5  4.902503  52.410538"
      ]
     },
     "execution_count": 8,
     "metadata": {},
     "output_type": "execute_result"
    }
   ],
   "source": [
    "df.drop(['Address','Zip','Unnamed: 0'],axis = 1,inplace= True)\n",
    "df.head()"
   ]
  },
  {
   "cell_type": "code",
   "execution_count": 9,
   "metadata": {
    "colab": {
     "base_uri": "https://localhost:8080/",
     "height": 300
    },
    "id": "niaCPVF-KwcW",
    "outputId": "c102dae7-9e05-45ba-b1fc-013c797381e7"
   },
   "outputs": [
    {
     "data": {
      "text/html": [
       "<div>\n",
       "<style scoped>\n",
       "    .dataframe tbody tr th:only-of-type {\n",
       "        vertical-align: middle;\n",
       "    }\n",
       "\n",
       "    .dataframe tbody tr th {\n",
       "        vertical-align: top;\n",
       "    }\n",
       "\n",
       "    .dataframe thead th {\n",
       "        text-align: right;\n",
       "    }\n",
       "</style>\n",
       "<table border=\"1\" class=\"dataframe\">\n",
       "  <thead>\n",
       "    <tr style=\"text-align: right;\">\n",
       "      <th></th>\n",
       "      <th>Area</th>\n",
       "      <th>Room</th>\n",
       "      <th>Lon</th>\n",
       "      <th>Lat</th>\n",
       "    </tr>\n",
       "  </thead>\n",
       "  <tbody>\n",
       "    <tr>\n",
       "      <th>count</th>\n",
       "      <td>920.000000</td>\n",
       "      <td>920.00000</td>\n",
       "      <td>920.000000</td>\n",
       "      <td>920.000000</td>\n",
       "    </tr>\n",
       "    <tr>\n",
       "      <th>mean</th>\n",
       "      <td>95.607609</td>\n",
       "      <td>3.56413</td>\n",
       "      <td>4.888652</td>\n",
       "      <td>52.363271</td>\n",
       "    </tr>\n",
       "    <tr>\n",
       "      <th>std</th>\n",
       "      <td>56.849699</td>\n",
       "      <td>1.57103</td>\n",
       "      <td>0.053118</td>\n",
       "      <td>0.024054</td>\n",
       "    </tr>\n",
       "    <tr>\n",
       "      <th>min</th>\n",
       "      <td>21.000000</td>\n",
       "      <td>1.00000</td>\n",
       "      <td>4.644819</td>\n",
       "      <td>52.291519</td>\n",
       "    </tr>\n",
       "    <tr>\n",
       "      <th>25%</th>\n",
       "      <td>60.000000</td>\n",
       "      <td>3.00000</td>\n",
       "      <td>4.855834</td>\n",
       "      <td>52.351925</td>\n",
       "    </tr>\n",
       "    <tr>\n",
       "      <th>50%</th>\n",
       "      <td>83.000000</td>\n",
       "      <td>3.00000</td>\n",
       "      <td>4.886818</td>\n",
       "      <td>52.364499</td>\n",
       "    </tr>\n",
       "    <tr>\n",
       "      <th>75%</th>\n",
       "      <td>113.000000</td>\n",
       "      <td>4.00000</td>\n",
       "      <td>4.922337</td>\n",
       "      <td>52.377545</td>\n",
       "    </tr>\n",
       "    <tr>\n",
       "      <th>max</th>\n",
       "      <td>623.000000</td>\n",
       "      <td>14.00000</td>\n",
       "      <td>5.029122</td>\n",
       "      <td>52.423805</td>\n",
       "    </tr>\n",
       "  </tbody>\n",
       "</table>\n",
       "</div>"
      ],
      "text/plain": [
       "             Area       Room         Lon         Lat\n",
       "count  920.000000  920.00000  920.000000  920.000000\n",
       "mean    95.607609    3.56413    4.888652   52.363271\n",
       "std     56.849699    1.57103    0.053118    0.024054\n",
       "min     21.000000    1.00000    4.644819   52.291519\n",
       "25%     60.000000    3.00000    4.855834   52.351925\n",
       "50%     83.000000    3.00000    4.886818   52.364499\n",
       "75%    113.000000    4.00000    4.922337   52.377545\n",
       "max    623.000000   14.00000    5.029122   52.423805"
      ]
     },
     "execution_count": 9,
     "metadata": {},
     "output_type": "execute_result"
    }
   ],
   "source": [
    "x= df.drop('Price',axis=1)\n",
    "y=df['Price']\n",
    "x.describe()"
   ]
  },
  {
   "cell_type": "code",
   "execution_count": 10,
   "metadata": {
    "id": "Yoa0807fKwcY"
   },
   "outputs": [],
   "source": [
    "# splitting dataset to training and testing...\n",
    "from sklearn.model_selection import train_test_split\n",
    "X_train,X_test,y_train,y_test = train_test_split(x,y,test_size=0.3,random_state=50)"
   ]
  },
  {
   "cell_type": "code",
   "execution_count": 11,
   "metadata": {
    "colab": {
     "base_uri": "https://localhost:8080/",
     "height": 0
    },
    "id": "Hz_W4joxKwca",
    "outputId": "56a36f9c-8a96-490b-8613-8559b958d131"
   },
   "outputs": [
    {
     "name": "stdout",
     "output_type": "stream",
     "text": [
      "training score  0.721879270330792 \n",
      "testing score  0.6739810261778038\n"
     ]
    }
   ],
   "source": [
    "from sklearn.linear_model import LinearRegression\n",
    "reg = LinearRegression()\n",
    "model = reg.fit(X_train,y_train)\n",
    "print(\"training score \",model.score(X_train,y_train),\"\\ntesting score \",model.score(X_test,y_test))"
   ]
  },
  {
   "cell_type": "code",
   "execution_count": 12,
   "metadata": {
    "id": "k3toeLX4Kwcc"
   },
   "outputs": [],
   "source": [
    "y_pred_lr = model.predict(X_test)"
   ]
  },
  {
   "cell_type": "code",
   "execution_count": 13,
   "metadata": {
    "colab": {
     "base_uri": "https://localhost:8080/",
     "height": 0
    },
    "id": "H7IA-sTfKwcd",
    "outputId": "c3c04d1e-0e37-465e-f6a6-e4cbbef65afd"
   },
   "outputs": [
    {
     "name": "stdout",
     "output_type": "stream",
     "text": [
      "mean absolute error =  185013.4341818313\n"
     ]
    }
   ],
   "source": [
    "from sklearn.metrics import mean_absolute_error as mae\n",
    "print(\"mean absolute error = \",mae(y_test,y_pred_lr))"
   ]
  },
  {
   "cell_type": "code",
   "execution_count": 14,
   "metadata": {
    "colab": {
     "base_uri": "https://localhost:8080/",
     "height": 0
    },
    "id": "BfiSVlTKKwcf",
    "outputId": "3fd6687c-58e7-433a-a5f7-7912014fd431"
   },
   "outputs": [
    {
     "data": {
      "text/plain": [
       "{'alpha': 1.0,\n",
       " 'copy_X': True,\n",
       " 'fit_intercept': True,\n",
       " 'max_iter': 1000,\n",
       " 'normalize': 'deprecated',\n",
       " 'positive': False,\n",
       " 'precompute': False,\n",
       " 'random_state': 42,\n",
       " 'selection': 'cyclic',\n",
       " 'tol': 0.0001,\n",
       " 'warm_start': False}"
      ]
     },
     "execution_count": 14,
     "metadata": {},
     "output_type": "execute_result"
    }
   ],
   "source": [
    "from sklearn.linear_model import Lasso\n",
    "lass_reg = Lasso(random_state=42)\n",
    "lass_reg.get_params()"
   ]
  },
  {
   "cell_type": "code",
   "execution_count": 15,
   "metadata": {
    "id": "KWTQZK9YKwcp"
   },
   "outputs": [],
   "source": [
    "alphas = np.array([500,0.01,0.05,0.1,0.5,1,10,50,100,])\n",
    "iter = np.array([1000,100,10])"
   ]
  },
  {
   "cell_type": "code",
   "execution_count": 16,
   "metadata": {
    "id": "0Y7oV90HKwcq"
   },
   "outputs": [],
   "source": [
    "import warnings \n",
    "warnings.filterwarnings('ignore')"
   ]
  },
  {
   "cell_type": "code",
   "execution_count": 17,
   "metadata": {
    "colab": {
     "base_uri": "https://localhost:8080/",
     "height": 0
    },
    "id": "xRBJf_pCKwcs",
    "outputId": "5637b55a-0107-4278-97c9-df9ccdfc81d4"
   },
   "outputs": [
    {
     "name": "stdout",
     "output_type": "stream",
     "text": [
      "for lasso regularization {'alpha': 100.0, 'max_iter': 10}\n",
      "Training score:  0.7218025661640269\n",
      "Testing score:  0.6734010769895973\n"
     ]
    }
   ],
   "source": [
    "from sklearn.model_selection import GridSearchCV as gscv\n",
    "grid = gscv(estimator = lass_reg, param_grid={'alpha' : alphas , 'max_iter':iter},cv = 5)\n",
    "grid.fit(X_train,y_train)\n",
    "y_pred_la = grid.predict(X_test)\n",
    "print('for lasso regularization',grid.best_params_)\n",
    "print('Training score: ',grid.score(X_train,y_train))\n",
    "print('Testing score: ',grid.score(X_test,y_test))"
   ]
  },
  {
   "cell_type": "code",
   "execution_count": 18,
   "metadata": {
    "colab": {
     "base_uri": "https://localhost:8080/",
     "height": 0
    },
    "id": "oNWvjLExKwc0",
    "outputId": "bdd823b4-3c25-4b9b-af77-4144227493cd"
   },
   "outputs": [
    {
     "name": "stdout",
     "output_type": "stream",
     "text": [
      "   param_max_iter param_alpha  mean_test_score\n",
      "0            1000       500.0         0.709562\n",
      "1             100       500.0         0.709562\n",
      "2              10       500.0         0.709734\n",
      "3            1000        0.01         0.709899\n",
      "4             100        0.01         0.709899\n",
      "5              10        0.01         0.710078\n",
      "6            1000        0.05         0.709899\n",
      "7             100        0.05         0.709899\n",
      "8              10        0.05         0.710078\n",
      "9            1000         0.1         0.709899\n",
      "10            100         0.1         0.709899\n",
      "11             10         0.1         0.710078\n",
      "12           1000         0.5         0.709900\n",
      "13            100         0.5         0.709900\n",
      "14             10         0.5         0.710079\n",
      "15           1000         1.0         0.709900\n",
      "16            100         1.0         0.709900\n",
      "17             10         1.0         0.710079\n",
      "18           1000        10.0         0.709912\n",
      "19            100        10.0         0.709912\n",
      "20             10        10.0         0.710091\n",
      "21           1000        50.0         0.709948\n",
      "22            100        50.0         0.709948\n",
      "23             10        50.0         0.710127\n",
      "24           1000       100.0         0.709958\n",
      "25            100       100.0         0.709958\n",
      "26             10       100.0         0.710136\n"
     ]
    }
   ],
   "source": [
    "resultdf = pd.DataFrame(grid.cv_results_)\n",
    "print(resultdf[['param_max_iter','param_alpha','mean_test_score']])"
   ]
  },
  {
   "cell_type": "code",
   "execution_count": 19,
   "metadata": {
    "colab": {
     "base_uri": "https://localhost:8080/",
     "height": 0
    },
    "id": "zbQXP2NfKwc1",
    "outputId": "ebfdedd1-e3cf-4c11-915e-dce92a698855"
   },
   "outputs": [
    {
     "data": {
      "text/plain": [
       "{'alpha': 1.0,\n",
       " 'copy_X': True,\n",
       " 'fit_intercept': True,\n",
       " 'max_iter': None,\n",
       " 'normalize': 'deprecated',\n",
       " 'positive': False,\n",
       " 'random_state': None,\n",
       " 'solver': 'auto',\n",
       " 'tol': 0.001}"
      ]
     },
     "execution_count": 19,
     "metadata": {},
     "output_type": "execute_result"
    }
   ],
   "source": [
    "from sklearn.linear_model import Ridge\n",
    "ridg_reg = Ridge()\n",
    "ridg_reg.get_params()"
   ]
  },
  {
   "cell_type": "code",
   "execution_count": 20,
   "metadata": {
    "colab": {
     "base_uri": "https://localhost:8080/",
     "height": 0
    },
    "id": "7Q8ubztYKwc2",
    "outputId": "4ab84556-e9e6-4930-94c4-c39567a23e27"
   },
   "outputs": [
    {
     "name": "stdout",
     "output_type": "stream",
     "text": [
      "For ridge regularization\n",
      " {'alpha': 500.0, 'max_iter': 1000}\n",
      "0.7108733095911026\n"
     ]
    }
   ],
   "source": [
    "grid = gscv(estimator = ridg_reg, param_grid={'alpha' : alphas , 'max_iter':iter},cv = 5)\n",
    "grid.fit(X_train,y_train)\n",
    "y_pred_ri = grid.predict(X_test)\n",
    "print('For ridge regularization\\n',grid.best_params_)\n",
    "print(grid.best_score_)"
   ]
  },
  {
   "cell_type": "code",
   "execution_count": 21,
   "metadata": {
    "colab": {
     "base_uri": "https://localhost:8080/",
     "height": 0
    },
    "id": "-myTFooZKwc2",
    "outputId": "7d364764-fa49-4f83-82d3-0484e7029775"
   },
   "outputs": [
    {
     "data": {
      "text/plain": [
       "[{'model': 'lasso',\n",
       "  'best_score': 0.7101364501189597,\n",
       "  'best_parameters': {'alpha': 100.0, 'max_iter': 10}},\n",
       " {'model': 'ridge',\n",
       "  'best_score': 0.7108733095911026,\n",
       "  'best_parameters': {'alpha': 500.0, 'max_iter': 1000}}]"
      ]
     },
     "execution_count": 21,
     "metadata": {},
     "output_type": "execute_result"
    }
   ],
   "source": [
    "models = {\n",
    "    'lasso' : {\n",
    "        'model' : lass_reg,\n",
    "        'params' : {\n",
    "            'alpha' : alphas , 'max_iter':iter\n",
    "        }\n",
    "    } ,\n",
    "    'ridge' : {\n",
    "        'model' : ridg_reg,\n",
    "        'params' : {\n",
    "            'alpha' : alphas , 'max_iter': iter\n",
    "        }\n",
    "    }\n",
    "}\n",
    "\n",
    "\n",
    "scores = []\n",
    "\n",
    "\n",
    "for modelname, mp in models.items():\n",
    "    grid = gscv(mp['model'],mp['params'],cv = 5)\n",
    "    grid.fit(X_train,y_train)\n",
    "    scores.append(\n",
    "        {\n",
    "            'model' : modelname,\n",
    "            'best_score' : grid.best_score_,\n",
    "            'best_parameters' : grid.best_params_\n",
    "        }\n",
    "    )\n",
    "    \n",
    "scores"
   ]
  },
  {
   "cell_type": "markdown",
   "metadata": {
    "id": "0QsMUPETNQkm"
   },
   "source": [
    "## 3. Compare the differences between the accuracies obtained using ridge and lasso regression in first experiment."
   ]
  },
  {
   "cell_type": "code",
   "execution_count": 22,
   "metadata": {
    "colab": {
     "base_uri": "https://localhost:8080/",
     "height": 112
    },
    "id": "vP582JXFKwc4",
    "outputId": "ab62a4bd-c247-468f-f62b-14960d4486c8"
   },
   "outputs": [
    {
     "data": {
      "text/html": [
       "<div>\n",
       "<style scoped>\n",
       "    .dataframe tbody tr th:only-of-type {\n",
       "        vertical-align: middle;\n",
       "    }\n",
       "\n",
       "    .dataframe tbody tr th {\n",
       "        vertical-align: top;\n",
       "    }\n",
       "\n",
       "    .dataframe thead th {\n",
       "        text-align: right;\n",
       "    }\n",
       "</style>\n",
       "<table border=\"1\" class=\"dataframe\">\n",
       "  <thead>\n",
       "    <tr style=\"text-align: right;\">\n",
       "      <th></th>\n",
       "      <th>model</th>\n",
       "      <th>best_score</th>\n",
       "      <th>best_parameters</th>\n",
       "    </tr>\n",
       "  </thead>\n",
       "  <tbody>\n",
       "    <tr>\n",
       "      <th>0</th>\n",
       "      <td>lasso</td>\n",
       "      <td>0.710136</td>\n",
       "      <td>{'alpha': 100.0, 'max_iter': 10}</td>\n",
       "    </tr>\n",
       "    <tr>\n",
       "      <th>1</th>\n",
       "      <td>ridge</td>\n",
       "      <td>0.710873</td>\n",
       "      <td>{'alpha': 500.0, 'max_iter': 1000}</td>\n",
       "    </tr>\n",
       "  </tbody>\n",
       "</table>\n",
       "</div>"
      ],
      "text/plain": [
       "   model  best_score                     best_parameters\n",
       "0  lasso    0.710136    {'alpha': 100.0, 'max_iter': 10}\n",
       "1  ridge    0.710873  {'alpha': 500.0, 'max_iter': 1000}"
      ]
     },
     "execution_count": 22,
     "metadata": {},
     "output_type": "execute_result"
    }
   ],
   "source": [
    "finaldf = pd.DataFrame(scores, columns=['model','best_score','best_parameters'])\n",
    "finaldf"
   ]
  },
  {
   "cell_type": "markdown",
   "metadata": {
    "id": "ayx5jWzfN6GL"
   },
   "source": [
    "## 4. For the above build regression model, perform model evaluation, feature selection and parameter tuning."
   ]
  },
  {
   "cell_type": "code",
   "execution_count": 23,
   "metadata": {
    "colab": {
     "base_uri": "https://localhost:8080/",
     "height": 0
    },
    "id": "IHL0J1fyNL2N",
    "outputId": "f90d14d7-0796-4a0e-989f-a1e50bc7e6d8"
   },
   "outputs": [
    {
     "name": "stdout",
     "output_type": "stream",
     "text": [
      "For linear regression: \n",
      "r^2 value is  0.6739810261778038 \n",
      "mean absolute percentage error:  0.31228256387448644\n",
      "For lasso regression: \n",
      "r^2 value is  0.6734010769895973 \n",
      "mean absolute percentage error:  0.31490652887182863\n",
      "For ridge regression: \n",
      "r^2 value is  0.6703557685186001 \n",
      "mean absolute percentage error:  0.3358030825798693\n"
     ]
    }
   ],
   "source": [
    "from sklearn.metrics import r2_score, mean_absolute_percentage_error\n",
    "\n",
    "print(\"For linear regression: \\nr^2 value is \",\n",
    "      r2_score(y_test,y_pred_lr),\n",
    "      \"\\nmean absolute percentage error: \",\n",
    "      mean_absolute_percentage_error(y_test,y_pred_lr))\n",
    "print(\"For lasso regression: \\nr^2 value is \",\n",
    "      r2_score(y_test,y_pred_la),\n",
    "      \"\\nmean absolute percentage error: \",\n",
    "      mean_absolute_percentage_error(y_test,y_pred_la))\n",
    "print(\"For ridge regression: \\nr^2 value is \",\n",
    "      r2_score(y_test,y_pred_ri),\n",
    "      \"\\nmean absolute percentage error: \",\n",
    "      mean_absolute_percentage_error(y_test,y_pred_ri))"
   ]
  }
 ],
 "metadata": {
  "colab": {
   "name": "19BTRCR018_AML_lab-1.ipynb",
   "provenance": []
  },
  "interpreter": {
   "hash": "7f2633a0dd9fad194999ffc17b7b93627efd4bccf6144e14bc5fef7dfd0c6355"
  },
  "kernelspec": {
   "display_name": "Python 3",
   "language": "python",
   "name": "python3"
  },
  "language_info": {
   "codemirror_mode": {
    "name": "ipython",
    "version": 3
   },
   "file_extension": ".py",
   "mimetype": "text/x-python",
   "name": "python",
   "nbconvert_exporter": "python",
   "pygments_lexer": "ipython3",
   "version": "3.8.5"
  }
 },
 "nbformat": 4,
 "nbformat_minor": 2
}
